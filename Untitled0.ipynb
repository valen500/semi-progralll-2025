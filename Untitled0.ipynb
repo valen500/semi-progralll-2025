{
  "nbformat": 4,
  "nbformat_minor": 0,
  "metadata": {
    "colab": {
      "provenance": [],
      "authorship_tag": "ABX9TyNPiTXc6Z2cwsmTtvEyWiHR",
      "include_colab_link": true
    },
    "kernelspec": {
      "name": "python3",
      "display_name": "Python 3"
    },
    "language_info": {
      "name": "python"
    }
  },
  "cells": [
    {
      "cell_type": "markdown",
      "metadata": {
        "id": "view-in-github",
        "colab_type": "text"
      },
      "source": [
        "<a href=\"https://colab.research.google.com/github/valen500/semi-progralll-2025/blob/main/Untitled0.ipynb\" target=\"_parent\"><img src=\"https://colab.research.google.com/assets/colab-badge.svg\" alt=\"Open In Colab\"/></a>"
      ]
    },
    {
      "cell_type": "code",
      "execution_count": null,
      "metadata": {
        "id": "gVW2hrOVb69G"
      },
      "outputs": [],
      "source": [
        "num1 = 5\n",
        "num2 =8.9\n",
        "suma =num1 + num2\n",
        "print (\"la suma es: \",suma)"
      ]
    },
    {
      "cell_type": "code",
      "source": [
        "num1 =float (imput(\"num1:\"))\n",
        "num2 =float(input(\"num2:\"))\n",
        "suma =num1 + num2\n",
        "print (\"la suma es: \",suma"
      ],
      "metadata": {
        "colab": {
          "base_uri": "https://localhost:8080/"
        },
        "id": "cyOgjlvecKZf",
        "outputId": "bcdb5381-effe-4c78-ee5f-5cab9e34a566"
      },
      "execution_count": null,
      "outputs": [
        {
          "output_type": "stream",
          "name": "stdout",
          "text": [
            "hola mundo\n"
          ]
        }
      ]
    },
    {
      "cell_type": "markdown",
      "source": [
        "Tipos de datos en python"
      ],
      "metadata": {
        "id": "Z3SB32uywDNy"
      }
    },
    {
      "cell_type": "code",
      "source": [
        "#Entero\n",
        "num1 = 6\n",
        "print(num1, \"Esto es un numero entero\")\n",
        "print( str(num1) + \" Esto es un entero\"  )\n",
        "\n",
        "#decimal\n",
        "num2 = 7.5\n",
        "print(num2, \"Esto es un numero decimal\")\n",
        "\n",
        "#booleano\n",
        "esMayor = True\n",
        "print(esMayor, \"Esto es un booleano\")\n",
        "\n",
        "#cadena\n",
        "nombre = \"Brian Alvarado\"\n",
        "cadena = input(\"Dime una cadena: \")\n",
        "valor = int(input(\"Dime un valor: \"))\n",
        "print(nombre, \"Esto es una cadena\", cadena[:valor])\n",
        "\n",
        "print( nombre, \"Letra inicial\", nombre[0],  \"Un valor especifico\", nombre[5], \"rango\", nombre[0:4], \"Comenzar desde el final\", nombre[-1])\n",
        "print( nombre[5:len(nombre)], nombre[:4] )\n",
        "print(type(nombre))\n",
        "\n",
        "#Fecha\n",
        "from datetime import datetime, date, time\n",
        "fecha = datetime.now()\n",
        "print(fecha, fecha.date(), fecha.time())\n",
        "print(type(fecha))\n"
      ],
      "metadata": {
        "colab": {
          "base_uri": "https://localhost:8080/"
        },
        "id": "je2rVGN-wfE3",
        "outputId": "7685e324-8909-4e0b-88f2-ec3c20cd3d92"
      },
      "execution_count": 3,
      "outputs": [
        {
          "output_type": "stream",
          "name": "stdout",
          "text": [
            "6 Esto es un numero entero\n",
            "6 Esto es un entero\n",
            "7.5 Esto es un numero decimal\n",
            "True Esto es un booleano\n",
            "Dime una cadena: hello\n",
            "Dime un valor: 5\n",
            "Brian Alvarado Esto es una cadena hello\n",
            "Brian Alvarado Letra inicial B Un valor especifico   rango Bria Comenzar desde el final o\n",
            " Alvarado Bria\n",
            "<class 'str'>\n",
            "2025-07-29 01:29:56.602588 2025-07-29 01:29:56.602588\n",
            "<class 'datetime.datetime'>\n"
          ]
        }
      ]
    },
    {
      "cell_type": "code",
      "source": [
        "#Fecha\n",
        "from datetime import datetime, date, time\n",
        "fecha = datetime.now()\n",
        "print(fecha, fecha.date(), fecha.time())\n",
        "print(type(fecha))\n",
        "\n",
        "fechaPersonalizada = date(2025,8,1)\n",
        "print(fechaPersonalizada)\n",
        "\n",
        "fecha = \"2025-08-08\"\n",
        "fecha = datetime.strptime(fecha, \"%Y-%m-%d\")\n",
        "print(fecha)\n",
        "\n",
        "print( fecha.strftime(\"%d/%m/%Y\"), \"Regresamos a clases \" )\n",
        "\n",
        "fechaNac = input(\"Dime tu fecha de nacimiento en formato d-m-Y: \")\n",
        "fechaNac = datetime.strptime(fechaNac, \"%d-%m-%Y\")\n",
        "print(fechaNac)"
      ],
      "metadata": {
        "colab": {
          "base_uri": "https://localhost:8080/"
        },
        "id": "-tEJpmSPzQ5w",
        "outputId": "e747e856-048f-4d29-a919-f207c76e048b"
      },
      "execution_count": 4,
      "outputs": [
        {
          "output_type": "stream",
          "name": "stdout",
          "text": [
            "2025-07-29 01:31:20.593473 2025-07-29 01:31:20.593473\n",
            "<class 'datetime.datetime'>\n",
            "2025-08-01\n",
            "2025-08-08 00:00:00\n",
            "08/08/2025 Regresamos a clases \n",
            "Dime tu fecha de nacimiento en formato d-m-Y: 22-06-2006\n",
            "2006-06-22 00:00:00\n"
          ]
        }
      ]
    },
    {
      "cell_type": "markdown",
      "source": [
        "Funciones en python\n",
        "\n"
      ],
      "metadata": {
        "id": "qzNFSHJhztiP"
      }
    },
    {
      "cell_type": "code",
      "source": [
        "#Suma\n",
        "def suma(num1, num2):\n",
        "  return num1 + num2\n",
        "\n",
        "  print(\"La suma de 5 + 8 = \", suma(5,8))"
      ],
      "metadata": {
        "id": "i5S1b5zKzyIt"
      },
      "execution_count": 16,
      "outputs": []
    },
    {
      "cell_type": "code",
      "source": [
        "print(\"La suma de 5 + 8 = \", suma(5,8))"
      ],
      "metadata": {
        "colab": {
          "base_uri": "https://localhost:8080/"
        },
        "id": "83gOgLb60hLi",
        "outputId": "bc62851f-12df-4668-e454-4cc2bd43e7e3"
      },
      "execution_count": 15,
      "outputs": [
        {
          "output_type": "stream",
          "name": "stdout",
          "text": [
            "La suma de 5 + 8 =  13\n"
          ]
        }
      ]
    },
    {
      "cell_type": "code",
      "source": [
        "num1 = float(input(\"Num1: \"))\n",
        "num2 = float(input(\"Num2: \"))\n",
        "respuesta = suma(num1, num2)\n",
        "print(\"La suma es: \", respuesta)"
      ],
      "metadata": {
        "colab": {
          "base_uri": "https://localhost:8080/"
        },
        "id": "fOcgpr5y0xQz",
        "outputId": "557171e1-c705-4a35-facb-a66a7cdceeb9"
      },
      "execution_count": 17,
      "outputs": [
        {
          "output_type": "stream",
          "name": "stdout",
          "text": [
            "Num1: 2\n",
            "Num2: 5\n",
            "La suma es:  7.0\n"
          ]
        }
      ]
    },
    {
      "cell_type": "markdown",
      "source": [
        "Tarea de restar dos numeros usando funciones introducidos por el usuario\n"
      ],
      "metadata": {
        "id": "RsoAHw991MUQ"
      }
    },
    {
      "cell_type": "code",
      "source": [
        "def restar():\n",
        "    num1 = float(input(\"Primer número: \"))\n",
        "    num2 = float(input(\"Segundo número: \"))\n",
        "    print(\"Resultado:\", num1 - num2)\n",
        "\n",
        "restar()"
      ],
      "metadata": {
        "colab": {
          "base_uri": "https://localhost:8080/"
        },
        "id": "EZq8WNCW1GA6",
        "outputId": "11030b4a-7f9f-43c8-8d81-2c2426f9b17f"
      },
      "execution_count": 18,
      "outputs": [
        {
          "output_type": "stream",
          "name": "stdout",
          "text": [
            "Primer número: 5\n",
            "Segundo número: 1\n",
            "Resultado: 4.0\n"
          ]
        }
      ]
    }
  ]
}