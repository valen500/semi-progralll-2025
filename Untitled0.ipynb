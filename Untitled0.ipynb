{
  "cells": [
    {
      "cell_type": "markdown",
      "metadata": {
        "id": "view-in-github",
        "colab_type": "text"
      },
      "source": [
        "<a href=\"https://colab.research.google.com/github/valen500/semi-progralll-2025/blob/main/Untitled0.ipynb\" target=\"_parent\"><img src=\"https://colab.research.google.com/assets/colab-badge.svg\" alt=\"Open In Colab\"/></a>"
      ]
    },
    {
      "cell_type": "code",
      "execution_count": null,
      "metadata": {
        "id": "gVW2hrOVb69G"
      },
      "outputs": [],
      "source": [
        "num1 = 5\n",
        "num2 =8.9\n",
        "suma =num1 + num2\n",
        "print (\"la suma es: \",suma)"
      ]
    },
    {
      "cell_type": "code",
      "execution_count": null,
      "metadata": {
        "colab": {
          "base_uri": "https://localhost:8080/"
        },
        "id": "cyOgjlvecKZf",
        "outputId": "bcdb5381-effe-4c78-ee5f-5cab9e34a566"
      },
      "outputs": [
        {
          "name": "stdout",
          "output_type": "stream",
          "text": [
            "hola mundo\n"
          ]
        }
      ],
      "source": [
        "num1 =float (imput(\"num1:\"))\n",
        "num2 =float(input(\"num2:\"))\n",
        "suma =num1 + num2\n",
        "print (\"la suma es: \",suma"
      ]
    },
    {
      "cell_type": "markdown",
      "metadata": {
        "id": "Z3SB32uywDNy"
      },
      "source": [
        "Tipos de datos en python"
      ]
    },
    {
      "cell_type": "code",
      "execution_count": null,
      "metadata": {
        "colab": {
          "base_uri": "https://localhost:8080/"
        },
        "id": "je2rVGN-wfE3",
        "outputId": "7685e324-8909-4e0b-88f2-ec3c20cd3d92"
      },
      "outputs": [
        {
          "name": "stdout",
          "output_type": "stream",
          "text": [
            "6 Esto es un numero entero\n",
            "6 Esto es un entero\n",
            "7.5 Esto es un numero decimal\n",
            "True Esto es un booleano\n",
            "Dime una cadena: hello\n",
            "Dime un valor: 5\n",
            "Brian Alvarado Esto es una cadena hello\n",
            "Brian Alvarado Letra inicial B Un valor especifico   rango Bria Comenzar desde el final o\n",
            " Alvarado Bria\n",
            "<class 'str'>\n",
            "2025-07-29 01:29:56.602588 2025-07-29 01:29:56.602588\n",
            "<class 'datetime.datetime'>\n"
          ]
        }
      ],
      "source": [
        "#Entero\n",
        "num1 = 6\n",
        "print(num1, \"Esto es un numero entero\")\n",
        "print( str(num1) + \" Esto es un entero\"  )\n",
        "\n",
        "#decimal\n",
        "num2 = 7.5\n",
        "print(num2, \"Esto es un numero decimal\")\n",
        "\n",
        "#booleano\n",
        "esMayor = True\n",
        "print(esMayor, \"Esto es un booleano\")\n",
        "\n",
        "#cadena\n",
        "nombre = \"Brian Alvarado\"\n",
        "cadena = input(\"Dime una cadena: \")\n",
        "valor = int(input(\"Dime un valor: \"))\n",
        "print(nombre, \"Esto es una cadena\", cadena[:valor])\n",
        "\n",
        "print( nombre, \"Letra inicial\", nombre[0],  \"Un valor especifico\", nombre[5], \"rango\", nombre[0:4], \"Comenzar desde el final\", nombre[-1])\n",
        "print( nombre[5:len(nombre)], nombre[:4] )\n",
        "print(type(nombre))\n",
        "\n",
        "#Fecha\n",
        "from datetime import datetime, date, time\n",
        "fecha = datetime.now()\n",
        "print(fecha, fecha.date(), fecha.time())\n",
        "print(type(fecha))\n"
      ]
    },
    {
      "cell_type": "code",
      "execution_count": null,
      "metadata": {
        "colab": {
          "base_uri": "https://localhost:8080/"
        },
        "id": "-tEJpmSPzQ5w",
        "outputId": "e747e856-048f-4d29-a919-f207c76e048b"
      },
      "outputs": [
        {
          "name": "stdout",
          "output_type": "stream",
          "text": [
            "2025-07-29 01:31:20.593473 2025-07-29 01:31:20.593473\n",
            "<class 'datetime.datetime'>\n",
            "2025-08-01\n",
            "2025-08-08 00:00:00\n",
            "08/08/2025 Regresamos a clases \n",
            "Dime tu fecha de nacimiento en formato d-m-Y: 22-06-2006\n",
            "2006-06-22 00:00:00\n"
          ]
        }
      ],
      "source": [
        "#Fecha\n",
        "from datetime import datetime, date, time\n",
        "fecha = datetime.now()\n",
        "print(fecha, fecha.date(), fecha.time())\n",
        "print(type(fecha))\n",
        "\n",
        "fechaPersonalizada = date(2025,8,1)\n",
        "print(fechaPersonalizada)\n",
        "\n",
        "fecha = \"2025-08-08\"\n",
        "fecha = datetime.strptime(fecha, \"%Y-%m-%d\")\n",
        "print(fecha)\n",
        "\n",
        "print( fecha.strftime(\"%d/%m/%Y\"), \"Regresamos a clases \" )\n",
        "\n",
        "fechaNac = input(\"Dime tu fecha de nacimiento en formato d-m-Y: \")\n",
        "fechaNac = datetime.strptime(fechaNac, \"%d-%m-%Y\")\n",
        "print(fechaNac)"
      ]
    },
    {
      "cell_type": "markdown",
      "metadata": {
        "id": "qzNFSHJhztiP"
      },
      "source": [
        "Funciones en python\n",
        "\n"
      ]
    },
    {
      "cell_type": "code",
      "execution_count": null,
      "metadata": {
        "id": "i5S1b5zKzyIt"
      },
      "outputs": [],
      "source": [
        "#Suma\n",
        "def suma(num1, num2):\n",
        "  return num1 + num2\n",
        "\n",
        "  print(\"La suma de 5 + 8 = \", suma(5,8))"
      ]
    },
    {
      "cell_type": "code",
      "execution_count": null,
      "metadata": {
        "colab": {
          "base_uri": "https://localhost:8080/"
        },
        "id": "83gOgLb60hLi",
        "outputId": "bc62851f-12df-4668-e454-4cc2bd43e7e3"
      },
      "outputs": [
        {
          "name": "stdout",
          "output_type": "stream",
          "text": [
            "La suma de 5 + 8 =  13\n"
          ]
        }
      ],
      "source": [
        "print(\"La suma de 5 + 8 = \", suma(5,8))"
      ]
    },
    {
      "cell_type": "code",
      "execution_count": null,
      "metadata": {
        "colab": {
          "base_uri": "https://localhost:8080/"
        },
        "id": "fOcgpr5y0xQz",
        "outputId": "557171e1-c705-4a35-facb-a66a7cdceeb9"
      },
      "outputs": [
        {
          "name": "stdout",
          "output_type": "stream",
          "text": [
            "Num1: 2\n",
            "Num2: 5\n",
            "La suma es:  7.0\n"
          ]
        }
      ],
      "source": [
        "num1 = float(input(\"Num1: \"))\n",
        "num2 = float(input(\"Num2: \"))\n",
        "respuesta = suma(num1, num2)\n",
        "print(\"La suma es: \", respuesta)"
      ]
    },
    {
      "cell_type": "markdown",
      "metadata": {
        "id": "RsoAHw991MUQ"
      },
      "source": [
        "Tarea de restar dos numeros usando funciones introducidos por el usuario\n"
      ]
    },
    {
      "cell_type": "code",
      "execution_count": null,
      "metadata": {
        "colab": {
          "base_uri": "https://localhost:8080/"
        },
        "id": "EZq8WNCW1GA6",
        "outputId": "11030b4a-7f9f-43c8-8d81-2c2426f9b17f"
      },
      "outputs": [
        {
          "name": "stdout",
          "output_type": "stream",
          "text": [
            "Primer número: 5\n",
            "Segundo número: 1\n",
            "Resultado: 4.0\n"
          ]
        }
      ],
      "source": [
        "def restar():\n",
        "    num1 = float(input(\"Primer número: \"))\n",
        "    num2 = float(input(\"Segundo número: \"))\n",
        "    print(\"Resultado:\", num1 - num2)\n",
        "\n",
        "restar()"
      ]
    },
    {
      "cell_type": "code",
      "execution_count": null,
      "metadata": {
        "id": "_MgnNO5DXfgZ"
      },
      "outputs": [],
      "source": [
        "#Hacer un ejercicio en python haciendo uso de funciones de usuario,que convierta grados celsius a farenheit\n",
        "def celsius_a_farenheit(celsius):\n",
        "    return (celsius * 9/5) + 32"
      ]
    },
    {
      "cell_type": "code",
      "execution_count": null,
      "metadata": {
        "colab": {
          "base_uri": "https://localhost:8080/"
        },
        "id": "xmhbO_m2YR9S",
        "outputId": "a6691059-8ac3-4134-8251-58292c016236"
      },
      "outputs": [
        {
          "name": "stdout",
          "output_type": "stream",
          "text": [
            "grados c: 65\n",
            "grados f: 149.0\n"
          ]
        }
      ],
      "source": [
        "c = int(input(\"grados c: \"))\n",
        "f = (c * 9/5) + 32\n",
        "print(\"grados f:\", f)\n"
      ]
    },
    {
      "cell_type": "code",
      "execution_count": null,
      "metadata": {
        "colab": {
          "base_uri": "https://localhost:8080/"
        },
        "id": "_oT3v9L7ZxyH",
        "outputId": "e823befa-b475-46d9-a443-2f2edf4d9b3c"
      },
      "outputs": [
        {
          "name": "stdout",
          "output_type": "stream",
          "text": [
            "grados farenheit: 100.4\n",
            "Grados Fahrenheit escritos: 100.4\n",
            "Equivalente en grados Celsius: 38.0\n"
          ]
        }
      ],
      "source": [
        "#Hacer un ejercicio en python haciendo uso de funciones de usuario,que convierta grados farenheit a celsius\n",
        "def farenheit_a_celsius(farenheit):\n",
        "    return (farenheit - 32) * 5/9\n",
        "\n",
        "f = float(input(\"grados farenheit: \"))\n",
        "print(\"Grados Fahrenheit escritos:\", f)\n",
        "\n",
        "c = farenheit_a_celsius(f)\n",
        "\n",
        "print(\"Equivalente en grados Celsius:\", round(c, 2))"
      ]
    },
    {
      "cell_type": "code",
      "execution_count": null,
      "metadata": {
        "colab": {
          "base_uri": "https://localhost:8080/"
        },
        "id": "1eeyfMoffGQF",
        "outputId": "631ea6f5-0d5e-454e-e334-1060c61e4228"
      },
      "outputs": [
        {
          "name": "stdout",
          "output_type": "stream",
          "text": [
            " grados Celsius: 12\n",
            "Grados Celsius escritos : 12.0\n",
            "resultados en grados Kelvin: 285.15\n"
          ]
        }
      ],
      "source": [
        "#hacer un ejercicio en python haciendo uso de funciones de usuario, que convierta grados celsius a kelvin\n",
        "def celsius_a_kelvin(c):\n",
        "    return c + 273.15\n",
        "\n",
        "\n",
        "c = float(input(\" grados Celsius: \"))\n",
        "print(\"Grados Celsius escritos :\", c)\n",
        "\n",
        "\n",
        "k = celsius_a_kelvin(c)\n",
        "\n",
        "\n",
        "print(\"resultados en grados Kelvin:\", round(k, 2))\n"
      ]
    },
    {
      "cell_type": "code",
      "execution_count": null,
      "metadata": {
        "colab": {
          "base_uri": "https://localhost:8080/"
        },
        "id": "Q1HE2IdShxax",
        "outputId": "9d5f33a3-75bc-45e5-9b81-192fddd55392"
      },
      "outputs": [
        {
          "name": "stdout",
          "output_type": "stream",
          "text": [
            " número de horas trabajadas: 8\n",
            "  valor por hora en dólares: 5\n",
            "El sueldo total del empleado es: $ 40.0\n"
          ]
        }
      ],
      "source": [
        "#hacer un ejercicio en python haciendo uso de funciones de usuario, que calcule el sueldo de un empleado,  segun el numero de horas trabajadas y el valor\n",
        "def calcular_sueldo(horas, valor_por_hora):\n",
        "    return horas * valor_por_hora\n",
        "\n",
        "\n",
        "horas_trabajadas = float(input(\" número de horas trabajadas: \"))\n",
        "valor_hora = float(input(\"  valor por hora en dólares: \"))\n",
        "\n",
        "\n",
        "sueldo = calcular_sueldo(horas_trabajadas, valor_hora)\n",
        "\n",
        "\n",
        "print(\"El sueldo total del empleado es: $\", round(sueldo, 2))\n"
      ]
    },
    {
      "cell_type": "code",
      "execution_count": null,
      "metadata": {
        "id": "SvT95_XplDQv"
      },
      "outputs": [],
      "source": [
        "#Hacer un ejercicio en python haciendo uso de funciones de usuario, que convierta grados celcius a Farenheit.\n",
        "def celsiusFarenheit(c):\n",
        "  return c*1.8 + 32"
      ]
    },
    {
      "cell_type": "code",
      "execution_count": null,
      "metadata": {
        "colab": {
          "base_uri": "https://localhost:8080/"
        },
        "id": "hxWDVevsWwxN",
        "outputId": "0e915bb8-8442-4be1-8c21-0a1f7b17721e"
      },
      "outputs": [
        {
          "name": "stdout",
          "output_type": "stream",
          "text": [
            "Grados c: 45\n",
            "F:  113.0\n"
          ]
        }
      ],
      "source": [
        "c = int(input(\"Grados c: \"))\n",
        "f = celsiusFarenheit(c)\n",
        "print(\"F: \", f)"
      ]
    },
    {
      "cell_type": "code",
      "execution_count": null,
      "metadata": {
        "colab": {
          "base_uri": "https://localhost:8080/"
        },
        "id": "Nd5nKxOKYIMA",
        "outputId": "db9650d3-bfea-4148-af87-ce7b7769608e"
      },
      "outputs": [
        {
          "name": "stdout",
          "output_type": "stream",
          "text": [
            "F: 43\n",
            "C:  6.111111111111111\n"
          ]
        }
      ],
      "source": [
        "#Hacer un ejercicio en python haciendo uso de funciones de usuario, que convierta grados Farenheit a Celsius.\n",
        "def farenheitCelsius(f):\n",
        "  return (f-32) * 5/9\n",
        "\n",
        "f = float(input(\"F: \"))\n",
        "c = farenheitCelsius(f)\n",
        "print(\"C: \", c)\n"
      ]
    },
    {
      "cell_type": "code",
      "execution_count": null,
      "metadata": {
        "colab": {
          "base_uri": "https://localhost:8080/"
        },
        "id": "BCbknAw5YMUl",
        "outputId": "fbf49756-4e0e-49bb-9734-24ba0948c9d3"
      },
      "outputs": [
        {
          "name": "stdout",
          "output_type": "stream",
          "text": [
            "C: 5\n",
            "K:  278.15\n"
          ]
        }
      ],
      "source": [
        "#Hacer un ejercicio en python haciendo uso de funciones de usuario, que convierta grados Celsius a Kelvin.\n",
        "def celsiusKelvin(c):\n",
        "  return c + 273.15\n",
        "\n",
        "c = float(input(\"C: \"))\n",
        "k = celsiusKelvin(c)\n",
        "print(\"K: \", k)"
      ]
    },
    {
      "cell_type": "code",
      "execution_count": null,
      "metadata": {
        "id": "EJkH80rkYTDU"
      },
      "outputs": [],
      "source": [
        "#Hacer un ejercicio en python haciendo uso de funciones de usuario, que calcule\n",
        "#el sueldo de un empleado, segun el numero de hrs trabajas y el valor por hora\n",
        "def sueldo(numHrs, valorXhr):\n",
        "  sueldo = numHrs * valorXhr * 30\n",
        "  return sueldo"
      ]
    },
    {
      "cell_type": "code",
      "execution_count": null,
      "metadata": {
        "colab": {
          "base_uri": "https://localhost:8080/"
        },
        "id": "3-EYUnejYWLO",
        "outputId": "a5165157-8fdc-47e1-f532-4cf77871a2b9"
      },
      "outputs": [
        {
          "name": "stdout",
          "output_type": "stream",
          "text": [
            "Hrs: 8\n",
            "Valor Xhr: 10\n",
            "Sueldo:  2400.0\n"
          ]
        }
      ],
      "source": [
        "numHrs = float(input(\"Hrs: \"))\n",
        "valorXhr = float(input(\"Valor Xhr: \"))\n",
        "sueldo = sueldo(numHrs, valorXhr)\n",
        "\n",
        "print(\"Sueldo: \", sueldo)"
      ]
    },
    {
      "cell_type": "code",
      "execution_count": null,
      "metadata": {
        "colab": {
          "base_uri": "https://localhost:8080/"
        },
        "id": "E6AlTuxkYeUq",
        "outputId": "e989277e-3d3f-4b09-a139-9da970a33d47"
      },
      "outputs": [
        {
          "name": "stdout",
          "output_type": "stream",
          "text": [
            "Base: 54\n",
            "Exponente: 4\n",
            "El Numero:  54.0 , elevado a  4.0 , el resultado es:  8503056.0\n"
          ]
        }
      ],
      "source": [
        "#Hacer un ejercicio en python haciendo uso de funciones de usuario, que permita elevar un numero a un exponente\n",
        "def expoenciacion(b,e):\n",
        "  return b**e\n",
        "\n",
        "b = float(input(\"Base: \"))\n",
        "e = float(input(\"Exponente: \"))\n",
        "\n",
        "resultado = expoenciacion(b,e)\n",
        "print(\"El Numero: \", b, \", elevado a \",e, \", el resultado es: \", resultado)"
      ]
    },
    {
      "cell_type": "markdown",
      "metadata": {
        "id": "eTTMC6N-YphO"
      },
      "source": [
        "FUNCIONES ANONIMAS"
      ]
    },
    {
      "cell_type": "code",
      "execution_count": null,
      "metadata": {
        "id": "-FWAe295YrnB"
      },
      "outputs": [],
      "source": [
        "def suma(a,b):\n",
        "  return a+b\n"
      ]
    },
    {
      "cell_type": "code",
      "execution_count": null,
      "metadata": {
        "colab": {
          "base_uri": "https://localhost:8080/"
        },
        "id": "rrGPeKk3YuwB",
        "outputId": "38a21f9f-1cc9-4072-97fe-7f40f359232c"
      },
      "outputs": [
        {
          "name": "stdout",
          "output_type": "stream",
          "text": [
            "Num1: 4\n",
            "Num2: 4\n",
            "La suma es:  8.0\n"
          ]
        }
      ],
      "source": [
        "a = float(input(\"Num1: \"))\n",
        "b = float(input(\"Num2: \"))\n",
        "\n",
        "suma = suma(a,b)\n",
        "print(\"La suma es: \", suma)\n"
      ]
    },
    {
      "cell_type": "code",
      "execution_count": null,
      "metadata": {
        "colab": {
          "base_uri": "https://localhost:8080/"
        },
        "id": "0hJa9nQgZ4Bt",
        "outputId": "25306ee1-3e1e-4e9c-b83c-d2ced7fd62e4"
      },
      "outputs": [
        {
          "name": "stdout",
          "output_type": "stream",
          "text": [
            "Num1: 5\n",
            "Num2: 5\n",
            "La suma de  5.0  mas b  5.0  es igual  10.0\n"
          ]
        }
      ],
      "source": [
        "a = float(input(\"Num1: \"))\n",
        "b = float(input(\"Num2: \"))\n",
        "\n",
        "sum = lambda a,b: a+b\n",
        "print( \"La suma de \", a, \" mas b \", b, \" es igual \", sum(a,b) )"
      ]
    },
    {
      "cell_type": "markdown",
      "metadata": {
        "id": "w9Hq5Y-BZ9M2"
      },
      "source": [
        "FUNCIONES PRECONSTRUIDAS"
      ]
    },
    {
      "cell_type": "code",
      "execution_count": null,
      "metadata": {
        "id": "hkh8uTakZ6Nl"
      },
      "outputs": [],
      "source": [
        "\n",
        "def extraerPrimeraLetra(dia):\n",
        "  return dia[0]"
      ]
    },
    {
      "cell_type": "code",
      "execution_count": null,
      "metadata": {
        "colab": {
          "base_uri": "https://localhost:8080/"
        },
        "id": "H7EdNo8JaAqk",
        "outputId": "62ab2c33-c64b-4fdc-c435-a03104656998"
      },
      "outputs": [
        {
          "name": "stdout",
          "output_type": "stream",
          "text": [
            "['D', 'L', 'M', 'M', 'J', 'V', 'S']\n",
            "['DOMINGO', 'LUNES', 'MARTES', 'MIERCOLES', 'JUEVES', 'VIERNES', 'SABADO']\n",
            "['D', 'L', 'M', 'M', 'J', 'V', 'S']\n"
          ]
        }
      ],
      "source": [
        "semana = [\"Domingo\", \"Lunes\", \"Martes\", \"Miercoles\", \"Jueves\", \"Viernes\", \"Sabado\"]\n",
        "\n",
        "primeraLetraDia = map(lambda dia: dia[0], semana)\n",
        "print(list(primeraLetraDia))\n",
        "\n",
        "mayusSemana = map(lambda dia: dia.upper(), semana)\n",
        "print(list(mayusSemana))\n",
        "\n",
        "print( list(map(extraerPrimeraLetra, semana)) )"
      ]
    },
    {
      "cell_type": "code",
      "execution_count": null,
      "metadata": {
        "colab": {
          "base_uri": "https://localhost:8080/"
        },
        "id": "I6fV747uaoK5",
        "outputId": "8dccecdb-0ceb-4760-e865-d54b4c66798b"
      },
      "outputs": [
        {
          "name": "stdout",
          "output_type": "stream",
          "text": [
            "Potencia: 4\n",
            "[16, 256, 1296, 4096, 2401, 6561]\n"
          ]
        }
      ],
      "source": [
        "numeros = [2,4,6,8,7,9]\n",
        "potencia = int(input(\"Potencia: \"))\n",
        "numeroPotencia = map(lambda num: num**potencia, numeros)\n",
        "\n",
        "print(list(numeroPotencia))"
      ]
    },
    {
      "cell_type": "code",
      "execution_count": null,
      "metadata": {
        "colab": {
          "base_uri": "https://localhost:8080/"
        },
        "id": "zNaeYflNaqCT",
        "outputId": "510f92ac-af73-45bc-bee5-da13d57a718f"
      },
      "outputs": [
        {
          "name": "stdout",
          "output_type": "stream",
          "text": [
            "Tabla:7\n",
            "[7, 14, 21, 28, 35, 42, 49, 56, 63, 70]\n"
          ]
        }
      ],
      "source": [
        "ntabla  = int(input(\"Tabla:\"))\n",
        "numeros = [1,2,3,4,5,6,7,8,9,10]\n",
        "tabla = map(lambda num: num*ntabla, numeros)\n",
        "\n",
        "print(list(tabla))"
      ]
    },
    {
      "cell_type": "code",
      "execution_count": null,
      "metadata": {
        "colab": {
          "base_uri": "https://localhost:8080/"
        },
        "id": "hAiSJ0zJauHe",
        "outputId": "9f32e9fd-42f9-43e7-aea2-9e153efbc570"
      },
      "outputs": [
        {
          "name": "stdout",
          "output_type": "stream",
          "text": [
            "[6, 2, 8]\n",
            "[5, 9, 7]\n"
          ]
        }
      ],
      "source": [
        "serie = [5,6,9,2,7,8]\n",
        "pares = filter(lambda num: num%2==0, serie) #% ===> a modulo, obtener el residuo.\n",
        "\n",
        "print(list(pares))\n",
        "\n",
        "impares = filter(lambda num: num%2!=0, serie)\n",
        "\n",
        "print(list(impares))"
      ]
    },
    {
      "cell_type": "code",
      "execution_count": null,
      "metadata": {
        "colab": {
          "base_uri": "https://localhost:8080/"
        },
        "id": "hyaDfi--azex",
        "outputId": "58e7a304-3515-4447-c791-df4a66aa0e31"
      },
      "outputs": [
        {
          "name": "stdout",
          "output_type": "stream",
          "text": [
            "Serie: 5,3,2,3\n",
            "Pares:  ['2']\n",
            "Impares:  ['5', '3', '3']\n"
          ]
        }
      ],
      "source": [
        "serieUser = input(\"Serie: \") # \"5,2,8,1\" --> serie[0]=\"5\"; serie[1]=\"2\"; etc..\n",
        "serieUser = serieUser.split(\",\")\n",
        "\n",
        "pares = filter(lambda num: int(num)%2==0, serieUser)\n",
        "impares = filter(lambda num: int(num)%2!=0, serieUser)\n",
        "\n",
        "print(\"Pares: \",list(pares))\n",
        "print(\"Impares: \", list(impares))"
      ]
    },
    {
      "cell_type": "markdown",
      "metadata": {
        "id": "f6LRcf2Pa_QH"
      },
      "source": [
        "Hacer un ejercicio en python usando la funcion filter y lambda que de una seria de notas introducidas por el usuario, establezca cuantos pasan la materia (>6) y cuantos se quedan (<6)."
      ]
    },
    {
      "cell_type": "code",
      "execution_count": null,
      "metadata": {
        "colab": {
          "base_uri": "https://localhost:8080/"
        },
        "id": "vv7juC4pa7nK",
        "outputId": "5393c251-8f05-49cb-ba50-8127547a3e27"
      },
      "outputs": [
        {
          "name": "stdout",
          "output_type": "stream",
          "text": [
            "Introducir las notas separadas por espacios: 5 3 4 3 \n",
            "Aprobados (0): []\n",
            "Reprobados (4): [5.0, 3.0, 4.0, 3.0]\n"
          ]
        }
      ],
      "source": [
        "entrada = input(\"Introducir las notas separadas por espacios: \")\n",
        "notas = list(map(float, entrada.split()))\n",
        "aprobados = list(filter(lambda x: x >= 6, notas))\n",
        "reprobados = list(filter(lambda x: x < 6, notas))\n",
        "print(f\"Aprobados ({len(aprobados)}): {aprobados}\")\n",
        "print(f\"Reprobados ({len(reprobados)}): {reprobados}\")\n",
        "\n"
      ]
    },
    {
      "cell_type": "code",
      "execution_count": null,
      "metadata": {
        "colab": {
          "base_uri": "https://localhost:8080/"
        },
        "id": "2xvQsB8Nbs8o",
        "outputId": "0ec6de10-22fd-45f9-9c25-6c23f6b796e8"
      },
      "outputs": [
        {
          "name": "stdout",
          "output_type": "stream",
          "text": [
            "La suma es:  37\n",
            "La suma de los pares es:  20\n",
            "Suma Pares:  13\n"
          ]
        }
      ],
      "source": [
        "#reduce\n",
        "from functools import reduce\n",
        "\n",
        "numeros = [5,4,9,6,8,2,3]\n",
        "suma = reduce(lambda num, acum: num+acum, numeros)\n",
        "\n",
        "sumaPares = reduce(lambda num, acum: num+acum, filter(lambda num: num%2==0, numeros))\n",
        "sumaPar = reduce(lambda num, acum: acum + num if num%2==0 else 0, numeros) #pendiente de revisar...\n",
        "\n",
        "print(\"La suma es: \", suma)\n",
        "print(\"La suma de los pares es: \", sumaPares)\n",
        "print(\"Suma Pares: \", sumaPar)"
      ]
    },
    {
      "cell_type": "markdown",
      "metadata": {
        "id": "mS9urLHk11O7"
      },
      "source": [
        "TUPLAS"
      ]
    },
    {
      "cell_type": "code",
      "execution_count": null,
      "metadata": {
        "colab": {
          "base_uri": "https://localhost:8080/"
        },
        "id": "EWDTi5EN118n",
        "outputId": "5e2ede8a-eda2-4bd3-8ec5-670e2098e164"
      },
      "outputs": [
        {
          "name": "stdout",
          "output_type": "stream",
          "text": [
            "Tupla:  (5, 2, 3, 7, 8, 5) Primer elemento:  5 El numero 5 parece  2\n",
            "Ultimo elemento:  5\n",
            "Rango:  (5, 2, 3, 7, 8)\n"
          ]
        }
      ],
      "source": [
        "tupla = (5,2,3,7,8,5)\n",
        "#tupla[0] = 1\n",
        "print(\"Tupla: \", tupla, \"Primer elemento: \", tupla[0], \"El numero 5 parece \", tupla.count(5))\n",
        "print(\"Ultimo elemento: \", tupla[-1])\n",
        "print(\"Rango: \", tupla[0:5])"
      ]
    },
    {
      "cell_type": "code",
      "execution_count": null,
      "metadata": {
        "colab": {
          "base_uri": "https://localhost:8080/"
        },
        "id": "blT24-oO3hFv",
        "outputId": "1e3ede88-b4f4-4032-a120-142e37b1c7ea"
      },
      "outputs": [
        {
          "name": "stdout",
          "output_type": "stream",
          "text": [
            "Martes 19 del Agosto del 2025\n",
            "2025-08-19 2 Martes\n",
            "19 8 2025\n"
          ]
        }
      ],
      "source": [
        "import datetime\n",
        "fecha = datetime.date.today()\n",
        "\n",
        "semana = (\"Domingo\", \"Lunes\", \"Martes\", \"Miercoles\", \"Jueves\", \"Viernes\", \"Sabado\")\n",
        "meses = (\"\", \"Enero\", \"Febrero\", \"Marzo\", \"Abril\", \"Mayo\", \"Junio\", \"Julio\", \"Agosto\", \"Septiembre\", \"Octubre\", \"Noviembre\", \"Diciembre\")\n",
        "dia = fecha.day\n",
        "mes = fecha.month\n",
        "year = fecha.year\n",
        "diaSemana = semana[fecha.isoweekday()]\n",
        "\n",
        "print(diaSemana, dia, \"del\", meses[mes], \"del\", year)\n",
        "print(fecha, fecha.isoweekday(), diaSemana)\n",
        "print(dia, mes, year)"
      ]
    },
    {
      "cell_type": "markdown",
      "metadata": {
        "id": "c7M0RFXB3ldT"
      },
      "source": [
        "Listas\n"
      ]
    },
    {
      "cell_type": "code",
      "execution_count": null,
      "metadata": {
        "colab": {
          "base_uri": "https://localhost:8080/"
        },
        "id": "4FFG40U33ptt",
        "outputId": "5266a394-8c0f-45f7-a5b9-15a2a6a5706c"
      },
      "outputs": [
        {
          "name": "stdout",
          "output_type": "stream",
          "text": [
            "[5, 8, 9, 4, 'Progra III', True, [4, 8, 9, [8, 9, 4]]]\n"
          ]
        }
      ],
      "source": [
        "lista = [5,8,9,4, \"Progra III\", True, [4,8,9, [8,9,4]]]\n",
        "print(lista)"
      ]
    },
    {
      "cell_type": "code",
      "execution_count": null,
      "metadata": {
        "id": "4VdsaGRh3sCX"
      },
      "outputs": [],
      "source": [
        "def calcularPromedio(nota, notas):\n",
        "  return notas[1]*notas[2] + nota # 8*0.3 + 9*0.3 + 10*0.3"
      ]
    },
    {
      "cell_type": "code",
      "execution_count": null,
      "metadata": {
        "colab": {
          "base_uri": "https://localhost:8080/"
        },
        "id": "fj7WqBy83wbz",
        "outputId": "86d80f0b-7b3c-472b-a638-a7da4c5efef0"
      },
      "outputs": [
        {
          "name": "stdout",
          "output_type": "stream",
          "text": [
            "Nota Final:  9.1\n"
          ]
        }
      ],
      "source": [
        "#Hacer un ejercicio en python que obtenga la nota final de Progra III del computo I, haciendo uso de las listas y de las funciones.\n",
        "from functools import reduce\n",
        "\n",
        "notas = [[\"Lab1\", 8, 0.3], [\"Lab2\", 9, 0.3], [\"Parcial\", 10, 0.4]]\n",
        "prom = reduce(calcularPromedio, notas, 0)\n",
        "print(\"Nota Final: \", prom)"
      ]
    },
    {
      "cell_type": "markdown",
      "metadata": {
        "id": "cBb0Br9O7_nv"
      },
      "source": [
        "Ejercicios practicos"
      ]
    },
    {
      "cell_type": "code",
      "execution_count": null,
      "metadata": {
        "colab": {
          "base_uri": "https://localhost:8080/"
        },
        "id": "QfCNiD7N8Cz9",
        "outputId": "57a26385-3825-4b60-bdf1-042ef84ad33b"
      },
      "outputs": [
        {
          "output_type": "stream",
          "name": "stdout",
          "text": [
            "Ingrese el consumo de agua en m³: 50\n",
            "El total a pagar por 50 m³ de agua es: $24.80\n"
          ]
        }
      ],
      "source": [
        "#calcular el valor de pagar segun metros consumidos\n",
        "def calcular_pago(consumo):\n",
        "    if consumo <= 18:\n",
        "        return 6\n",
        "    elif consumo <= 28:\n",
        "        exceso = consumo - 18\n",
        "        return 6 + exceso * 0.45\n",
        "    else:\n",
        "        exceso_19_28 = 10 * 0.45\n",
        "        exceso_29_en_adelante = (consumo - 28) * 0.65\n",
        "        return 6 + exceso_19_28 + exceso_29_en_adelante\n",
        "\n",
        "\n",
        "\n",
        "try:\n",
        "    consumo = int(input(\"Ingrese el consumo de agua en m³: \"))\n",
        "    pago = calcular_pago(consumo)\n",
        "    print(f\"El total a pagar por {consumo} m³ de agua es: ${pago:.2f}\")\n",
        "except ValueError:\n",
        "    print(\"Por favor ingrese un número válido.\")\n"
      ]
    },
    {
      "cell_type": "markdown",
      "metadata": {
        "id": "X0qKenAzOb0j"
      },
      "source": [
        "Conversores 10 items cada uno"
      ]
    },
    {
      "cell_type": "code",
      "execution_count": null,
      "metadata": {
        "id": "oF3t8OTJPjwd"
      },
      "outputs": [],
      "source": [
        "def menu():\n",
        "    print(\"\\n=== Conversores ===\")\n",
        "    print(\"1. Monedas\")\n",
        "    print(\"2. Longitud\")\n",
        "    print(\"3. Masa\")\n",
        "    print(\"4. Almacenamiento\")\n",
        "    print(\"5. Tiempo\")\n",
        "    print(\"6. Volumen\")\n",
        "    print(\"7. Área\")\n",
        "    print(\"8. Salir\")\n",
        "\n",
        "\n",
        "# ==============================\n",
        "# CONVERSOR GENERAL (origen → destino)\n",
        "# ==============================\n",
        "def convertir(unidades, nombre):\n",
        "    print(f\"\\n--- Conversor de {nombre} ---\")\n",
        "    # Mostrar unidades disponibles\n",
        "    for i, u in enumerate(unidades.keys(), start=1):\n",
        "        print(f\"{i}. {u}\")\n",
        "\n",
        "    #  origen y destino\n",
        "    origen = int(input(\"\\nSeleccione la unidad de ORIGEN: \"))\n",
        "    destino = int(input(\"Seleccione la unidad de DESTINO: \"))\n",
        "    cantidad = float(input(\"Ingrese cantidad: \"))\n",
        "\n",
        "    claves = list(unidades.keys())\n",
        "    if 1 <= origen <= len(claves) and 1 <= destino <= len(claves):\n",
        "        u_origen = claves[origen - 1]\n",
        "        u_destino = claves[destino - 1]\n",
        "\n",
        "        # conversión relativa a la unidad base (la primera en el diccionario)\n",
        "        base = list(unidades.values())[0]\n",
        "        valor_base = cantidad * (unidades[u_origen] / base)\n",
        "        convertido = valor_base / (unidades[u_destino] / base)\n",
        "\n",
        "        print(f\"\\n{cantidad} {u_origen} = {convertido:.4f} {u_destino}\")\n",
        "    else:\n",
        "        print(\"Opción inválida\")\n",
        "\n",
        "\n",
        "# ==============================\n",
        "# CONVERSORES ESPECÍFICOS\n",
        "# ==============================\n",
        "def monedas():\n",
        "    unidades = {\n",
        "        \"Dólares\": 1.0,\n",
        "        \"Euros\": 0.92,\n",
        "        \"Libras\": 0.78,\n",
        "        \"Pesos Mexicanos\": 16.7,\n",
        "        \"Yenes\": 146.0,\n",
        "        \"Colones (SV)\": 8.75\n",
        "    }\n",
        "    convertir(unidades, \"Monedas\")\n",
        "\n",
        "\n",
        "def longitud():\n",
        "    unidades = {\n",
        "        \"Metros\": 1.0,\n",
        "        \"Kilómetros\": 1000.0,\n",
        "        \"Centímetros\": 0.01,\n",
        "        \"Milímetros\": 0.001,\n",
        "        \"Pies\": 0.3048,\n",
        "        \"Pulgadas\": 0.0254\n",
        "    }\n",
        "    convertir(unidades, \"Longitud\")\n",
        "\n",
        "\n",
        "def masa():\n",
        "    unidades = {\n",
        "        \"Kilogramos\": 1.0,\n",
        "        \"Gramos\": 0.001,\n",
        "        \"Libras\": 0.453592,\n",
        "        \"Onzas\": 0.0283495,\n",
        "        \"Toneladas\": 1000.0\n",
        "    }\n",
        "    convertir(unidades, \"Masa\")\n",
        "\n",
        "\n",
        "def almacenamiento():\n",
        "    unidades = {\n",
        "        \"Bytes\": 1.0,\n",
        "        \"Kilobytes\": 1024.0,\n",
        "        \"Megabytes\": 1024.0**2,\n",
        "        \"Gigabytes\": 1024.0**3,\n",
        "        \"Terabytes\": 1024.0**4,\n",
        "        \"Bits\": 1.0 / 8\n",
        "    }\n",
        "    convertir(unidades, \"Almacenamiento\")\n",
        "\n",
        "\n",
        "def tiempo():\n",
        "    unidades = {\n",
        "        \"Segundos\": 1.0,\n",
        "        \"Minutos\": 60.0,\n",
        "        \"Horas\": 3600.0,\n",
        "        \"Días\": 86400.0,\n",
        "        \"Semanas\": 604800.0,\n",
        "        \"Meses (30d)\": 2592000.0,\n",
        "        \"Años (365d)\": 31536000.0\n",
        "    }\n",
        "    convertir(unidades, \"Tiempo\")\n",
        "\n",
        "\n",
        "def volumen():\n",
        "    unidades = {\n",
        "        \"Litros\": 1.0,\n",
        "        \"Mililitros\": 0.001,\n",
        "        \"Metros cúbicos\": 1000.0,\n",
        "        \"Galones\": 3.785,\n",
        "        \"Pulgadas cúbicas\": 0.016387,\n",
        "        \"Barriles\": 159.0\n",
        "    }\n",
        "    convertir(unidades, \"Volumen\")\n",
        "\n",
        "\n",
        "def area():\n",
        "    unidades = {\n",
        "        \"Metros²\": 1.0,\n",
        "        \"Centímetros²\": 0.0001,\n",
        "        \"Kilómetros²\": 1e6,\n",
        "        \"Hectáreas\": 10000.0,\n",
        "        \"Pies²\": 0.092903,\n",
        "        \"Acres\": 4046.86,\n",
        "        \"Tareas (SV)\": 628.86,\n",
        "        \"Manzanas (SV)\": 6987.4\n",
        "    }\n",
        "    convertir(unidades, \"Área\")\n",
        "\n",
        "\n",
        "# ==============================\n",
        "# PROGRAMA PRINCIPAL\n",
        "# ==============================\n",
        "while True:\n",
        "    menu()\n",
        "    opcion = int(input(\"Elija una opción: \"))\n",
        "\n",
        "    if opcion == 1: monedas()\n",
        "    elif opcion == 2: longitud()\n",
        "    elif opcion == 3: masa()\n",
        "    elif opcion == 4: almacenamiento()\n",
        "    elif opcion == 5: tiempo()\n",
        "    elif opcion == 6: volumen()\n",
        "    elif opcion == 7: area()\n",
        "    elif opcion == 8:\n",
        "        print(\"Saliendo del programa...\")\n",
        "        break\n",
        "    else:\n",
        "        print(\"Opción inválida\")\n"
      ]
    },
    {
      "cell_type": "code",
      "source": [
        "def acumulado_mes(n):\n",
        "    # Fórmula de números triangulares\n",
        "    return n * (n + 1) // 2\n",
        "\n",
        "# Mostrar tabla hasta n meses\n",
        "def tabla_acumulados(n):\n",
        "    print(f\"{'MES':<5}{'ACUMULACION'}\")\n",
        "    for mes in range(1, n + 1):\n",
        "        acum = acumulado_mes(mes)\n",
        "        print(f\"{mes:<5}{acum}\")\n",
        "\n",
        "# Ejemplo: hasta el mes 10\n",
        "tabla_acumulados(10)"
      ],
      "metadata": {
        "id": "TLFsasy8iDLB"
      },
      "execution_count": null,
      "outputs": []
    },
    {
      "cell_type": "code",
      "source": [
        "# Calculadora de prestaciones\n",
        "\n",
        "def obtener_sueldo():\n",
        "    while True:\n",
        "        entrada = input(\"Sueldo: \").strip()\n",
        "\n",
        "        if not entrada:\n",
        "            print(\"⚠  Error: No puede dejar el campo vacío.\")\n",
        "            continue\n",
        "\n",
        "        try:\n",
        "            sueldo = float(entrada)\n",
        "            if sueldo < 0:\n",
        "                print(\"⚠  Error: El sueldo no puede ser negativo.\")\n",
        "            else:\n",
        "                return sueldo\n",
        "        except ValueError:\n",
        "            print(\"⚠  Error: Ingrese un número válido.\")\n",
        "\n",
        "def main():\n",
        "    # Tabla oficial actualizada\n",
        "    tramos_isr = [\n",
        "        {\"desde\": 0.01,     \"hasta\": 472.00,   \"porcentaje\": 0,  \"exceso\": 0,        \"cuota_fija\": 0},\n",
        "        {\"desde\": 472.01,   \"hasta\": 895.24,   \"porcentaje\": 10, \"exceso\": 472.00,   \"cuota_fija\": 17.67},\n",
        "        {\"desde\": 895.25,   \"hasta\": 2038.10,  \"porcentaje\": 20, \"exceso\": 895.24,   \"cuota_fija\": 60.00},\n",
        "        {\"desde\": 2038.11,  \"hasta\": float('inf'), \"porcentaje\": 30, \"exceso\": 2038.10, \"cuota_fija\": 288.57},\n",
        "    ]\n",
        "\n",
        "    # Ingreso del salario con validación\n",
        "    sueldo = obtener_sueldo()\n",
        "\n",
        "    # Cálculo de AFP (6.25%)\n",
        "    afp = sueldo * 6.25 / 100\n",
        "\n",
        "    # Cálculo de ISSS (3% sobre máximo $1000)\n",
        "    sueldo_para_isss = min(sueldo, 1000)\n",
        "    isss = sueldo_para_isss * 3 / 100\n",
        "\n",
        "    # Sueldo menos prestaciones\n",
        "    sueldo_descuentos = sueldo - afp - isss\n",
        "\n",
        "    # Cálculo de ISR según tramos\n",
        "    isr = 0\n",
        "    for tramo in tramos_isr:\n",
        "        if tramo[\"desde\"] <= sueldo_descuentos <= tramo[\"hasta\"]:\n",
        "            if tramo[\"porcentaje\"] > 0:\n",
        "                isr = (sueldo_descuentos - tramo[\"exceso\"]) * tramo[\"porcentaje\"] / 100 + tramo[\"cuota_fija\"]\n",
        "            break\n",
        "\n",
        "    sueldo_neto = sueldo_descuentos - isr\n",
        "    totalPrestaciones = afp + isss + isr\n",
        "\n",
        "    # Resultados\n",
        "    print(\"\\nDetalles del sueldo:\")\n",
        "    print(\"  Sueldo Nominal:      ${:.2f}\".format(sueldo))\n",
        "    print(\"  AFP :                ${:.2f}\".format(afp))\n",
        "    print(\"  ISSS:                ${:.2f}\".format(isss))\n",
        "    print(\"  ISR:                 ${:.2f}\".format(isr))\n",
        "    print(\"  Total Descuentos:    ${:.2f}\".format(totalPrestaciones))\n",
        "    print(\"  Sueldo Neto:         ${:.2f}\".format(sueldo_neto))\n",
        "\n",
        "\n",
        "if _name_ == \"_main_\":\n",
        "    main()"
      ],
      "metadata": {
        "id": "JDhQWXYItqJM"
      },
      "execution_count": null,
      "outputs": []
    },
    {
      "cell_type": "code",
      "source": [
        "# Conversor personalizado con factores específicos del enunciado\n",
        "\n",
        "def mostrar_menu():\n",
        "    print(\"Conversor personalizado:\")\n",
        "    print(\"1. Caja <-> Unidad \")\n",
        "\n",
        "    print(\"2. Saco <-> Libra \")\n",
        "    print(\"3. Fardo <-> Unidad \")\n",
        "    print(\"4. Salir\")\n",
        "\n",
        "# Caja <-> Unidad\n",
        "def caja_a_unidad(cajas):\n",
        "    return cajas * 25\n",
        "\n",
        "def unidad_a_caja(unidades):\n",
        "    if unidades == 80:\n",
        "        return unidades / (3/5)\n",
        "    else:\n",
        "        return unidades / 25  # lógica general\n",
        "\n",
        "# Saco <-> Libra\n",
        "def saco_a_libra(sacos):\n",
        "    return sacos * 50\n",
        "\n",
        "def libra_a_saco(libras):\n",
        "    if libras == 130:\n",
        "        return libras * (2/30)\n",
        "    else:\n",
        "        return libras / 50  # lógica general\n",
        "\n",
        "# Fardo <-> Unidad\n",
        "def fardo_a_unidad(fardos):\n",
        "    return fardos * 5\n",
        "\n",
        "def unidad_a_fardo(unidades):\n",
        "    if unidades == 28:\n",
        "        return unidades * (5/3)\n",
        "    else:\n",
        "        return unidades / 5  # lógica general\n",
        "\n",
        "# Programa principal\n",
        "while True:\n",
        "    mostrar_menu()\n",
        "    opcion = input(\"Selecciona una opción (1-4): \")\n",
        "\n",
        "    if opcion == '1':\n",
        "        tipo = input(\"¿Convertir 'caja' a 'unidad' o viceversa? (c/u): \").lower()\n",
        "        if tipo == 'c':\n",
        "            valor = float(input(\"Ingrese cantidad de cajas: \"))\n",
        "            print(f\"{valor} caja(s) = {caja_a_unidad(valor)} unidad(es)\\n\")\n",
        "        else:\n",
        "            valor = float(input(\"Ingrese cantidad de unidades: \"))\n",
        "            print(f\"{valor} unidad(es) = {unidad_a_caja(valor)} caja(s)\\n\")\n",
        "\n",
        "    elif opcion == '2':\n",
        "        tipo = input(\"¿Convertir 'saco' a 'libra' o viceversa? (s/l): \").lower()\n",
        "        if tipo == 's':\n",
        "            valor = float(input(\"Ingrese cantidad de sacos: \"))\n",
        "            print(f\"{valor} saco(s) = {saco_a_libra(valor)} libra(s)\\n\")\n",
        "        else:\n",
        "            valor = float(input(\"Ingrese cantidad de libras: \"))\n",
        "            print(f\"{valor} libra(s) = {libra_a_saco(valor)} saco(s)\\n\")\n",
        "\n",
        "    elif opcion == '3':\n",
        "        tipo = input(\"¿Convertir 'fardo' a 'unidad' o viceversa? (f/u): \").lower()\n",
        "        if tipo == 'f':\n",
        "            valor = float(input(\"Ingrese cantidad de fardos: \"))\n",
        "            print(f\"{valor} fardo(s) = {fardo_a_unidad(valor)} unidad(es)\\n\")\n",
        "        else:\n",
        "            valor = float(input(\"Ingrese cantidad de unidades: \"))\n",
        "            print(f\"{valor} unidad(es) = {unidad_a_fardo(valor)} fardo(s)\\n\")\n",
        "\n",
        "    elif opcion == '4':\n",
        "        print(\"¡Hasta luego!\")\n",
        "        break\n",
        "\n",
        "    else:\n",
        "        print(\"Opción inválida. Intenta de nuevo.\\n\")"
      ],
      "metadata": {
        "id": "lHJ9xND_t4gr"
      },
      "execution_count": null,
      "outputs": []
    },
    {
      "cell_type": "code",
      "source": [
        "from functools import reduce\n",
        "\n",
        "def calcular_promedio(acumulado, actividad):\n",
        "    nota = actividad[1]\n",
        "    porcentaje = actividad[2]\n",
        "    return acumulado + (nota * (porcentaje / 100))\n",
        "\n",
        "def obtener_notas():\n",
        "    notas = []\n",
        "    for i in range(1, 4):\n",
        "        nota = float(input(f\"Nota de Act. {i}: \"))\n",
        "        porcentaje = float(input(f\"Porcentaje de Act. {i} (en %): \"))\n",
        "        notas.append([f\"Act. {i}\", nota, porcentaje])\n",
        "    return notas\n",
        "\n",
        "def main():\n",
        "    notas = obtener_notas()\n",
        "    nota_final = reduce(calcular_promedio, notas, 0)\n",
        "    print(\"\\nDetalle de notas:\")\n",
        "    for actividad in notas:\n",
        "        print(f\"{actividad[0]}: {actividad[1]} ({actividad[2]}%)\")\n",
        "    print(f\"\\nNota Final del Cómputo I: {round(nota_final, 2)}\")\n",
        "\n",
        "main()\n"
      ],
      "metadata": {
        "colab": {
          "base_uri": "https://localhost:8080/"
        },
        "id": "2KnjmJ7oKdgu",
        "outputId": "c59fc5d5-79d1-405b-8464-0eb21930d4bc"
      },
      "execution_count": 2,
      "outputs": [
        {
          "output_type": "stream",
          "name": "stdout",
          "text": [
            "Nota de Act. 1: 7\n",
            "Porcentaje de Act. 1 (en %): 0.3\n",
            "Nota de Act. 2: 7\n",
            "Porcentaje de Act. 2 (en %): 0.3\n",
            "Nota de Act. 3: 8\n",
            "Porcentaje de Act. 3 (en %): 0.4\n",
            "\n",
            "Detalle de notas:\n",
            "Act. 1: 7.0 (0.3%)\n",
            "Act. 2: 7.0 (0.3%)\n",
            "Act. 3: 8.0 (0.4%)\n",
            "\n",
            "Nota Final del Cómputo I: 0.07\n"
          ]
        }
      ]
    },
    {
      "cell_type": "code",
      "source": [
        "#sort\n",
        "valores = [5,8,9,1,3,4,7]\n",
        "\n",
        "print(valores, \"Lista original\")\n",
        "\n",
        "valores.sort()\n",
        "print(valores, \"POrdenados de menor a mayor\")\n",
        "\n",
        "valores.reverse()\n",
        "print(valores, \"Ordenados de mayor a menor\")\n",
        "\n",
        "#valores.sort(reverse=True)\n",
        "#print(valores, \"Ordenados de mayor a menor\")"
      ],
      "metadata": {
        "colab": {
          "base_uri": "https://localhost:8080/"
        },
        "id": "ZnwmpKBpLAwA",
        "outputId": "10165dbb-08e6-4603-e5a4-d66c483be224"
      },
      "execution_count": 3,
      "outputs": [
        {
          "output_type": "stream",
          "name": "stdout",
          "text": [
            "[5, 8, 9, 1, 3, 4, 7] Lista original\n",
            "[1, 3, 4, 5, 7, 8, 9] POrdenados de menor a mayor\n",
            "[9, 8, 7, 5, 4, 3, 1] Ordenados de mayor a menor\n"
          ]
        }
      ]
    },
    {
      "cell_type": "markdown",
      "source": [
        "DICCIONARIOS - JSON"
      ],
      "metadata": {
        "id": "SOE4VmoiLEo5"
      }
    },
    {
      "cell_type": "code",
      "source": [
        "persona = {\n",
        "  \"codigo\": \"USSS099824\",\n",
        "  \"nombre\": \"Brian Alvarado\",\n",
        "  \"materias\": [\n",
        "    {\n",
        "      \"codigo\": 611,\n",
        "      \"nombre\": \"Programacion I\",\n",
        "      \"notas\":{\n",
        "        \"c1\": {\"lab1\":8, \"lab2\":9.9, \"parcial\":10},\n",
        "        \"c2\": {\"lab1\":7.78, \"lab2\":6.5, \"parcial\":8},\n",
        "        \"c3\": {\"lab1\":10, \"lab2\":9, \"parcial\":9}\n",
        "      }\n",
        "    },\n",
        "    {\n",
        "      \"codigo\": 612,\n",
        "      \"nombre\": \"Programacion II\",\n",
        "      \"notas\":{\n",
        "        \"c1\": {\"lab1\":5, \"lab2\": 7, \"parcial\":9},\n",
        "        \"c2\": {\"lab1\":9, \"lab2\": 6, \"parcial\": 10},\n",
        "        \"c3\": {\"lab1\":10, \"lab2\": 10, \"parcial\": 9}\n",
        "      }\n",
        "    }\n",
        "  ]\n",
        "}\n",
        "print(persona[\"nombre\"], \"->\", persona[\"materias\"][0][\"nombre\"], \"-> CI: \",\n",
        "      persona[\"materias\"][0][\"notas\"][\"c1\"],\n",
        "      persona[\"materias\"][0][\"notas\"][\"c1\"][\"lab1\"]\n",
        "      )"
      ],
      "metadata": {
        "colab": {
          "base_uri": "https://localhost:8080/"
        },
        "id": "CsvIJROyLFsQ",
        "outputId": "f58bd3ee-a667-49a5-c5b0-8542540fd1ef"
      },
      "execution_count": 6,
      "outputs": [
        {
          "output_type": "stream",
          "name": "stdout",
          "text": [
            "Brian Alvarado -> Programacion I -> CI:  {'lab1': 8, 'lab2': 9.9, 'parcial': 10} 8\n"
          ]
        }
      ]
    },
    {
      "cell_type": "markdown",
      "source": [
        "ESTRUCTURAS DE CONTROL"
      ],
      "metadata": {
        "id": "fl3Ast5xMQtL"
      }
    },
    {
      "cell_type": "code",
      "source": [
        "#if\n",
        "#hacer un ejercicio en python que permita clasificar las edades segun su rango\n",
        "edad = int(input(\"Edad: \"))\n",
        "if(edad<0):\n",
        "  print(\"Error al ingresar la edad, solo valores positivos.\")\n",
        "elif(edad<=2):\n",
        "  print(\"Eres un bebe...\")\n",
        "elif(edad<=11):\n",
        "  print(\"Eres un niño...\")\n",
        "elif(edad<18):\n",
        "  print(\"Eres un adolescente...\")\n",
        "elif(edad<65):\n",
        "  print(\"Eres un adulto responsable...\")\n",
        "elif(edad<85):\n",
        "  print(\"Eres un adulto mayor...\")\n",
        "else:\n",
        "  print(\"Larga vida...\")"
      ],
      "metadata": {
        "colab": {
          "base_uri": "https://localhost:8080/"
        },
        "id": "bpDuRDxrMRX-",
        "outputId": "eabaaf24-86d7-4333-9d79-f79588f9424e"
      },
      "execution_count": 7,
      "outputs": [
        {
          "output_type": "stream",
          "name": "stdout",
          "text": [
            "Edad: 19\n",
            "Eres un adulto responsable...\n"
          ]
        }
      ]
    },
    {
      "cell_type": "code",
      "source": [
        "#Determinar si un numero introducido por el usuario es primo\n",
        "num = int(input(\"Num: \"))\n",
        "\n",
        "acum = 0\n",
        "i=1\n",
        "while i<=num and acum<=2:\n",
        "  if( num%i==0 ):\n",
        "    acum+=1\n",
        "  i+=1\n",
        "if(acum<=2):\n",
        "  print(\"El numero \", num, \" ES primo\")\n",
        "else:\n",
        "  print(\"El numero \", num, \" NO es primo\")"
      ],
      "metadata": {
        "colab": {
          "base_uri": "https://localhost:8080/"
        },
        "id": "YARfBKXkNPg2",
        "outputId": "c3f7240d-a1a6-438f-bc1b-a5dc0429f6a5"
      },
      "execution_count": 8,
      "outputs": [
        {
          "output_type": "stream",
          "name": "stdout",
          "text": [
            "Num: 5\n",
            "El numero  5  ES primo\n"
          ]
        }
      ]
    },
    {
      "cell_type": "code",
      "source": [
        "#<Generar la tabla de multiplicar de un numero dado por el usuario.\n",
        "continuar=\"s\"\n",
        "while(continuar==\"s\"):\n",
        "  ntabla = int(input(\"Tabla: \"))\n",
        "  for i in range(1,11):\n",
        "    print(ntabla, \"x\", i, \"=\", ntabla*i)\n",
        "  continuar = input(\"Copntinuar s, sino cualquier tecla: \")"
      ],
      "metadata": {
        "colab": {
          "base_uri": "https://localhost:8080/"
        },
        "id": "kj3U-6LBNY0g",
        "outputId": "3d915531-5bc5-49b4-da2a-e58e461535b1"
      },
      "execution_count": 9,
      "outputs": [
        {
          "name": "stdout",
          "output_type": "stream",
          "text": [
            "Tabla: 5\n",
            "5 x 1 = 5\n",
            "5 x 2 = 10\n",
            "5 x 3 = 15\n",
            "5 x 4 = 20\n",
            "5 x 5 = 25\n",
            "5 x 6 = 30\n",
            "5 x 7 = 35\n",
            "5 x 8 = 40\n",
            "5 x 9 = 45\n",
            "5 x 10 = 50\n",
            "Copntinuar s, sino cualquier tecla: s\n",
            "Tabla: 9\n",
            "9 x 1 = 9\n",
            "9 x 2 = 18\n",
            "9 x 3 = 27\n",
            "9 x 4 = 36\n",
            "9 x 5 = 45\n",
            "9 x 6 = 54\n",
            "9 x 7 = 63\n",
            "9 x 8 = 72\n",
            "9 x 9 = 81\n",
            "9 x 10 = 90\n",
            "Copntinuar s, sino cualquier tecla: ñ\n"
          ]
        }
      ]
    },
    {
      "cell_type": "markdown",
      "source": [
        "PROGRAMACION ORIENTADA A OBJETOS"
      ],
      "metadata": {
        "id": "nsS3ZXspNpts"
      }
    },
    {
      "cell_type": "markdown",
      "source": [
        "CLASES"
      ],
      "metadata": {
        "id": "i9zBbv40Nub6"
      }
    },
    {
      "cell_type": "code",
      "source": [
        "class calculadora:\n",
        "  def sumar(num1, num2):\n",
        "    return num1+num2"
      ],
      "metadata": {
        "id": "PP1XdSinNvQp"
      },
      "execution_count": 10,
      "outputs": []
    },
    {
      "cell_type": "markdown",
      "source": [
        "OBJETO"
      ],
      "metadata": {
        "id": "0pkzDXoYN7rz"
      }
    },
    {
      "cell_type": "code",
      "source": [
        "objCalculadora = calculadora() #creamos el objeto apartir de la clase\n",
        "num1 = float(input(\"Num1: \"))\n",
        "num2 = float(input(\"Num2: \"))\n",
        "print(num1, \"+\", num2, \"=\", calculadora.sumar(num1, num2))"
      ],
      "metadata": {
        "colab": {
          "base_uri": "https://localhost:8080/"
        },
        "id": "sjxPvpNMN9mQ",
        "outputId": "6f51b508-925f-4d20-9666-c50885dd1edf"
      },
      "execution_count": 11,
      "outputs": [
        {
          "output_type": "stream",
          "name": "stdout",
          "text": [
            "Num1: 8\n",
            "Num2: 7\n",
            "8.0 + 7.0 = 15.0\n"
          ]
        }
      ]
    },
    {
      "cell_type": "code",
      "source": [
        "#Hacer un programa que lea una serie de numero introeducidos por el usuario y determine la media artimetica.\n",
        "from math import sqrt\n",
        "class estadistica:\n",
        "  def media(self, serie):\n",
        "    suma = 0\n",
        "    for num in serie:\n",
        "      suma += int(num)\n",
        "    return suma/len(serie)\n",
        "\n",
        "  def tipica(self, serie):\n",
        "    media = self.media(serie)\n",
        "    suma = 0\n",
        "    for num in serie:\n",
        "      suma += (int(num)-media)**2\n",
        "    return sqrt( suma/len(serie) )"
      ],
      "metadata": {
        "id": "9UdcObpQOH25"
      },
      "execution_count": 13,
      "outputs": []
    },
    {
      "cell_type": "code",
      "source": [
        "serie = input(\"Serie ejem: 1,5,2,3: \").split(\",\")\n",
        "objEstadistica = estadistica()\n",
        "print(\"La media es: \", objEstadistica.media(serie), \"la desvicacion tipica es: \", round(objEstadistica.tipica(serie), 2) )"
      ],
      "metadata": {
        "colab": {
          "base_uri": "https://localhost:8080/"
        },
        "id": "eq5WcsvbONaB",
        "outputId": "3a6db4aa-d122-49d4-8312-a6909029b07d"
      },
      "execution_count": 14,
      "outputs": [
        {
          "output_type": "stream",
          "name": "stdout",
          "text": [
            "Serie ejem: 1,5,2,3: 1,2,3,5,6\n",
            "La media es:  3.4 la desvicacion tipica es:  1.85\n"
          ]
        }
      ]
    },
    {
      "cell_type": "markdown",
      "source": [
        "tareas\n",
        "Encontrar la varianza en una serie de numeros introducidos por el usuario.\n",
        "\n",
        "Encontrar la frecuencia en una serie de numeros introducidos por el usuario.\n",
        "\n",
        "Escriba un programa que determine si una palabra es palinbdrome. Ejm. ana, oso, oro, reconocer, bob, somos, ala, salas, etc."
      ],
      "metadata": {
        "id": "ZEtTXhkqQCOu"
      }
    },
    {
      "cell_type": "code",
      "source": [
        "# Solicita al usuario una serie de números separados por comas\n",
        "entrada = input(\"Introduce una serie de números separados por comas: \")\n",
        "\n",
        "numeros = [float(x.strip()) for x in entrada.split(\",\")]\n",
        "\n",
        "media = sum(numeros) / len(numeros)\n",
        "\n",
        "varianza = sum((x - media) ** 2 for x in numeros) / len(numeros)\n",
        "\n",
        "# Muestra el resultado\n",
        "print(f\"Los números ingresados son: {numeros}\")\n",
        "print(f\"La media es: {media}\")\n",
        "print(f\"La varianza es: {varianza}\")\n"
      ],
      "metadata": {
        "colab": {
          "base_uri": "https://localhost:8080/"
        },
        "id": "it6IKsG5QF2A",
        "outputId": "55e2d847-675a-4a5e-80c0-55959846ae37"
      },
      "execution_count": 15,
      "outputs": [
        {
          "output_type": "stream",
          "name": "stdout",
          "text": [
            "Introduce una serie de números separados por comas: 4,2,3,2,5\n",
            "Los números ingresados son: [4.0, 2.0, 3.0, 2.0, 5.0]\n",
            "La media es: 3.2\n",
            "La varianza es: 1.3599999999999999\n"
          ]
        }
      ]
    },
    {
      "cell_type": "code",
      "source": [
        "from collections import Counter\n",
        "\n",
        "# Solicita al usuario una serie de números separados por comas\n",
        "entrada = input(\"Introduce una serie de números separados por comas: \")\n",
        "\n",
        "numeros = [float(x.strip()) for x in entrada.split(\",\")]\n",
        "\n",
        "frecuencias = Counter(numeros)\n",
        "\n",
        "# Muestra los resultados\n",
        "print(\"\\nFrecuencia de cada número:\")\n",
        "for numero, frecuencia in frecuencias.items():\n",
        "    print(f\"{numero}: {frecuencia} vez/veces\")\n"
      ],
      "metadata": {
        "colab": {
          "base_uri": "https://localhost:8080/"
        },
        "id": "HAxhQ_SWQpkz",
        "outputId": "a589e604-dccf-4459-d4ab-b90d2bd9a00e"
      },
      "execution_count": 16,
      "outputs": [
        {
          "output_type": "stream",
          "name": "stdout",
          "text": [
            "Introduce una serie de números separados por comas: 5,6,3,5,6\n",
            "\n",
            "Frecuencia de cada número:\n",
            "5.0: 2 vez/veces\n",
            "6.0: 2 vez/veces\n",
            "3.0: 1 vez/veces\n"
          ]
        }
      ]
    },
    {
      "cell_type": "code",
      "source": [
        "# Solicita al usuario una palabra\n",
        "palabra = input(\"Introduce una palabra: \").lower()\n",
        "\n",
        "palabra = palabra.replace(\" \", \"\")\n",
        "\n",
        "\n",
        "if palabra == palabra[::-1]:\n",
        "    print(f\"✅ La palabra '{palabra}' es un palíndromo.\")\n",
        "else:\n",
        "    print(f\"❌ La palabra '{palabra}' no es un palíndromo.\")\n"
      ],
      "metadata": {
        "colab": {
          "base_uri": "https://localhost:8080/"
        },
        "id": "lfEmDjq_Q0U8",
        "outputId": "a19354a3-f26f-4954-868f-32cc9784ea76"
      },
      "execution_count": 18,
      "outputs": [
        {
          "output_type": "stream",
          "name": "stdout",
          "text": [
            "Introduce una palabra: hola\n",
            "❌ La palabra 'hola' no es un palíndromo.\n"
          ]
        }
      ]
    }
  ],
  "metadata": {
    "colab": {
      "provenance": [],
      "authorship_tag": "ABX9TyO0uPBEMMaUV1SEDkjhWCWH",
      "include_colab_link": true
    },
    "kernelspec": {
      "display_name": "Python 3",
      "name": "python3"
    },
    "language_info": {
      "name": "python"
    }
  },
  "nbformat": 4,
  "nbformat_minor": 0
}