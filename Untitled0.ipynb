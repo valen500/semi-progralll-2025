{
  "nbformat": 4,
  "nbformat_minor": 0,
  "metadata": {
    "colab": {
      "provenance": [],
      "authorship_tag": "ABX9TyMb/vlqg3iAjhPohH6sbz3p",
      "include_colab_link": true
    },
    "kernelspec": {
      "name": "python3",
      "display_name": "Python 3"
    },
    "language_info": {
      "name": "python"
    }
  },
  "cells": [
    {
      "cell_type": "markdown",
      "metadata": {
        "id": "view-in-github",
        "colab_type": "text"
      },
      "source": [
        "<a href=\"https://colab.research.google.com/github/valen500/semi-progralll-2025/blob/main/Untitled0.ipynb\" target=\"_parent\"><img src=\"https://colab.research.google.com/assets/colab-badge.svg\" alt=\"Open In Colab\"/></a>"
      ]
    },
    {
      "cell_type": "code",
      "execution_count": null,
      "metadata": {
        "id": "gVW2hrOVb69G"
      },
      "outputs": [],
      "source": [
        "num1 = 5\n",
        "num2 =8.9\n",
        "suma =num1 + num2\n",
        "print (\"la suma es: \",suma)"
      ]
    },
    {
      "cell_type": "code",
      "source": [
        "num1 =float (imput(\"num1:\"))\n",
        "num2 =float(input(\"num2:\"))\n",
        "suma =num1 + num2\n",
        "print (\"la suma es: \",suma"
      ],
      "metadata": {
        "colab": {
          "base_uri": "https://localhost:8080/"
        },
        "id": "cyOgjlvecKZf",
        "outputId": "bcdb5381-effe-4c78-ee5f-5cab9e34a566"
      },
      "execution_count": null,
      "outputs": [
        {
          "output_type": "stream",
          "name": "stdout",
          "text": [
            "hola mundo\n"
          ]
        }
      ]
    }
  ]
}