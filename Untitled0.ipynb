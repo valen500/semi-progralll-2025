{
  "nbformat": 4,
  "nbformat_minor": 0,
  "metadata": {
    "colab": {
      "provenance": [],
      "authorship_tag": "ABX9TyNkRqj6/Mt9t2N0DvWLOj1R",
      "include_colab_link": true
    },
    "kernelspec": {
      "name": "python3",
      "display_name": "Python 3"
    },
    "language_info": {
      "name": "python"
    }
  },
  "cells": [
    {
      "cell_type": "markdown",
      "metadata": {
        "id": "view-in-github",
        "colab_type": "text"
      },
      "source": [
        "<a href=\"https://colab.research.google.com/github/valen500/semi-progralll-2025/blob/main/Untitled0.ipynb\" target=\"_parent\"><img src=\"https://colab.research.google.com/assets/colab-badge.svg\" alt=\"Open In Colab\"/></a>"
      ]
    },
    {
      "cell_type": "code",
      "execution_count": null,
      "metadata": {
        "id": "gVW2hrOVb69G"
      },
      "outputs": [],
      "source": [
        "num1 = 5\n",
        "num2 =8.9\n",
        "suma =num1 + num2\n",
        "print (\"la suma es: \",suma)"
      ]
    },
    {
      "cell_type": "code",
      "source": [
        "num1 =float (imput(\"num1:\"))\n",
        "num2 =float(input(\"num2:\"))\n",
        "suma =num1 + num2\n",
        "print (\"la suma es: \",suma"
      ],
      "metadata": {
        "colab": {
          "base_uri": "https://localhost:8080/"
        },
        "id": "cyOgjlvecKZf",
        "outputId": "bcdb5381-effe-4c78-ee5f-5cab9e34a566"
      },
      "execution_count": null,
      "outputs": [
        {
          "output_type": "stream",
          "name": "stdout",
          "text": [
            "hola mundo\n"
          ]
        }
      ]
    },
    {
      "cell_type": "markdown",
      "source": [
        "Tipos de datos en python"
      ],
      "metadata": {
        "id": "Z3SB32uywDNy"
      }
    },
    {
      "cell_type": "code",
      "source": [
        "#Entero\n",
        "num1 = 6\n",
        "print(num1, \"Esto es un numero entero\")\n",
        "print( str(num1) + \" Esto es un entero\"  )\n",
        "\n",
        "#decimal\n",
        "num2 = 7.5\n",
        "print(num2, \"Esto es un numero decimal\")\n",
        "\n",
        "#booleano\n",
        "esMayor = True\n",
        "print(esMayor, \"Esto es un booleano\")\n",
        "\n",
        "#cadena\n",
        "nombre = \"Brian Alvarado\"\n",
        "cadena = input(\"Dime una cadena: \")\n",
        "valor = int(input(\"Dime un valor: \"))\n",
        "print(nombre, \"Esto es una cadena\", cadena[:valor])\n",
        "\n",
        "print( nombre, \"Letra inicial\", nombre[0],  \"Un valor especifico\", nombre[5], \"rango\", nombre[0:4], \"Comenzar desde el final\", nombre[-1])\n",
        "print( nombre[5:len(nombre)], nombre[:4] )\n",
        "print(type(nombre))\n",
        "\n",
        "#Fecha\n",
        "from datetime import datetime, date, time\n",
        "fecha = datetime.now()\n",
        "print(fecha, fecha.date(), fecha.time())\n",
        "print(type(fecha))\n"
      ],
      "metadata": {
        "colab": {
          "base_uri": "https://localhost:8080/"
        },
        "id": "je2rVGN-wfE3",
        "outputId": "7685e324-8909-4e0b-88f2-ec3c20cd3d92"
      },
      "execution_count": null,
      "outputs": [
        {
          "output_type": "stream",
          "name": "stdout",
          "text": [
            "6 Esto es un numero entero\n",
            "6 Esto es un entero\n",
            "7.5 Esto es un numero decimal\n",
            "True Esto es un booleano\n",
            "Dime una cadena: hello\n",
            "Dime un valor: 5\n",
            "Brian Alvarado Esto es una cadena hello\n",
            "Brian Alvarado Letra inicial B Un valor especifico   rango Bria Comenzar desde el final o\n",
            " Alvarado Bria\n",
            "<class 'str'>\n",
            "2025-07-29 01:29:56.602588 2025-07-29 01:29:56.602588\n",
            "<class 'datetime.datetime'>\n"
          ]
        }
      ]
    },
    {
      "cell_type": "code",
      "source": [
        "#Fecha\n",
        "from datetime import datetime, date, time\n",
        "fecha = datetime.now()\n",
        "print(fecha, fecha.date(), fecha.time())\n",
        "print(type(fecha))\n",
        "\n",
        "fechaPersonalizada = date(2025,8,1)\n",
        "print(fechaPersonalizada)\n",
        "\n",
        "fecha = \"2025-08-08\"\n",
        "fecha = datetime.strptime(fecha, \"%Y-%m-%d\")\n",
        "print(fecha)\n",
        "\n",
        "print( fecha.strftime(\"%d/%m/%Y\"), \"Regresamos a clases \" )\n",
        "\n",
        "fechaNac = input(\"Dime tu fecha de nacimiento en formato d-m-Y: \")\n",
        "fechaNac = datetime.strptime(fechaNac, \"%d-%m-%Y\")\n",
        "print(fechaNac)"
      ],
      "metadata": {
        "colab": {
          "base_uri": "https://localhost:8080/"
        },
        "id": "-tEJpmSPzQ5w",
        "outputId": "e747e856-048f-4d29-a919-f207c76e048b"
      },
      "execution_count": null,
      "outputs": [
        {
          "output_type": "stream",
          "name": "stdout",
          "text": [
            "2025-07-29 01:31:20.593473 2025-07-29 01:31:20.593473\n",
            "<class 'datetime.datetime'>\n",
            "2025-08-01\n",
            "2025-08-08 00:00:00\n",
            "08/08/2025 Regresamos a clases \n",
            "Dime tu fecha de nacimiento en formato d-m-Y: 22-06-2006\n",
            "2006-06-22 00:00:00\n"
          ]
        }
      ]
    },
    {
      "cell_type": "markdown",
      "source": [
        "Funciones en python\n",
        "\n"
      ],
      "metadata": {
        "id": "qzNFSHJhztiP"
      }
    },
    {
      "cell_type": "code",
      "source": [
        "#Suma\n",
        "def suma(num1, num2):\n",
        "  return num1 + num2\n",
        "\n",
        "  print(\"La suma de 5 + 8 = \", suma(5,8))"
      ],
      "metadata": {
        "id": "i5S1b5zKzyIt"
      },
      "execution_count": null,
      "outputs": []
    },
    {
      "cell_type": "code",
      "source": [
        "print(\"La suma de 5 + 8 = \", suma(5,8))"
      ],
      "metadata": {
        "colab": {
          "base_uri": "https://localhost:8080/"
        },
        "id": "83gOgLb60hLi",
        "outputId": "bc62851f-12df-4668-e454-4cc2bd43e7e3"
      },
      "execution_count": null,
      "outputs": [
        {
          "output_type": "stream",
          "name": "stdout",
          "text": [
            "La suma de 5 + 8 =  13\n"
          ]
        }
      ]
    },
    {
      "cell_type": "code",
      "source": [
        "num1 = float(input(\"Num1: \"))\n",
        "num2 = float(input(\"Num2: \"))\n",
        "respuesta = suma(num1, num2)\n",
        "print(\"La suma es: \", respuesta)"
      ],
      "metadata": {
        "colab": {
          "base_uri": "https://localhost:8080/"
        },
        "id": "fOcgpr5y0xQz",
        "outputId": "557171e1-c705-4a35-facb-a66a7cdceeb9"
      },
      "execution_count": null,
      "outputs": [
        {
          "output_type": "stream",
          "name": "stdout",
          "text": [
            "Num1: 2\n",
            "Num2: 5\n",
            "La suma es:  7.0\n"
          ]
        }
      ]
    },
    {
      "cell_type": "markdown",
      "source": [
        "Tarea de restar dos numeros usando funciones introducidos por el usuario\n"
      ],
      "metadata": {
        "id": "RsoAHw991MUQ"
      }
    },
    {
      "cell_type": "code",
      "source": [
        "def restar():\n",
        "    num1 = float(input(\"Primer número: \"))\n",
        "    num2 = float(input(\"Segundo número: \"))\n",
        "    print(\"Resultado:\", num1 - num2)\n",
        "\n",
        "restar()"
      ],
      "metadata": {
        "colab": {
          "base_uri": "https://localhost:8080/"
        },
        "id": "EZq8WNCW1GA6",
        "outputId": "11030b4a-7f9f-43c8-8d81-2c2426f9b17f"
      },
      "execution_count": null,
      "outputs": [
        {
          "output_type": "stream",
          "name": "stdout",
          "text": [
            "Primer número: 5\n",
            "Segundo número: 1\n",
            "Resultado: 4.0\n"
          ]
        }
      ]
    },
    {
      "cell_type": "code",
      "source": [
        "#Hacer un ejercicio en python haciendo uso de funciones de usuario,que convierta grados celsius a farenheit\n",
        "def celsius_a_farenheit(celsius):\n",
        "    return (celsius * 9/5) + 32"
      ],
      "metadata": {
        "id": "_MgnNO5DXfgZ"
      },
      "execution_count": null,
      "outputs": []
    },
    {
      "cell_type": "code",
      "source": [
        "c = int(input(\"grados c: \"))\n",
        "f = (c * 9/5) + 32\n",
        "print(\"grados f:\", f)\n"
      ],
      "metadata": {
        "colab": {
          "base_uri": "https://localhost:8080/"
        },
        "id": "xmhbO_m2YR9S",
        "outputId": "a6691059-8ac3-4134-8251-58292c016236"
      },
      "execution_count": null,
      "outputs": [
        {
          "output_type": "stream",
          "name": "stdout",
          "text": [
            "grados c: 65\n",
            "grados f: 149.0\n"
          ]
        }
      ]
    },
    {
      "cell_type": "code",
      "source": [
        "#Hacer un ejercicio en python haciendo uso de funciones de usuario,que convierta grados farenheit a celsius\n",
        "def farenheit_a_celsius(farenheit):\n",
        "    return (farenheit - 32) * 5/9\n",
        "\n",
        "f = float(input(\"grados farenheit: \"))\n",
        "print(\"Grados Fahrenheit escritos:\", f)\n",
        "\n",
        "c = farenheit_a_celsius(f)\n",
        "\n",
        "print(\"Equivalente en grados Celsius:\", round(c, 2))"
      ],
      "metadata": {
        "colab": {
          "base_uri": "https://localhost:8080/"
        },
        "id": "_oT3v9L7ZxyH",
        "outputId": "e823befa-b475-46d9-a443-2f2edf4d9b3c"
      },
      "execution_count": null,
      "outputs": [
        {
          "output_type": "stream",
          "name": "stdout",
          "text": [
            "grados farenheit: 100.4\n",
            "Grados Fahrenheit escritos: 100.4\n",
            "Equivalente en grados Celsius: 38.0\n"
          ]
        }
      ]
    },
    {
      "cell_type": "code",
      "source": [
        "#hacer un ejercicio en python haciendo uso de funciones de usuario, que convierta grados celsius a kelvin\n",
        "def celsius_a_kelvin(c):\n",
        "    return c + 273.15\n",
        "\n",
        "\n",
        "c = float(input(\" grados Celsius: \"))\n",
        "print(\"Grados Celsius escritos :\", c)\n",
        "\n",
        "\n",
        "k = celsius_a_kelvin(c)\n",
        "\n",
        "\n",
        "print(\"resultados en grados Kelvin:\", round(k, 2))\n"
      ],
      "metadata": {
        "colab": {
          "base_uri": "https://localhost:8080/"
        },
        "id": "1eeyfMoffGQF",
        "outputId": "631ea6f5-0d5e-454e-e334-1060c61e4228"
      },
      "execution_count": null,
      "outputs": [
        {
          "output_type": "stream",
          "name": "stdout",
          "text": [
            " grados Celsius: 12\n",
            "Grados Celsius escritos : 12.0\n",
            "resultados en grados Kelvin: 285.15\n"
          ]
        }
      ]
    },
    {
      "cell_type": "code",
      "source": [
        "#hacer un ejercicio en python haciendo uso de funciones de usuario, que calcule el sueldo de un empleado,  segun el numero de horas trabajadas y el valor\n",
        "def calcular_sueldo(horas, valor_por_hora):\n",
        "    return horas * valor_por_hora\n",
        "\n",
        "\n",
        "horas_trabajadas = float(input(\" número de horas trabajadas: \"))\n",
        "valor_hora = float(input(\"  valor por hora en dólares: \"))\n",
        "\n",
        "\n",
        "sueldo = calcular_sueldo(horas_trabajadas, valor_hora)\n",
        "\n",
        "\n",
        "print(\"El sueldo total del empleado es: $\", round(sueldo, 2))\n"
      ],
      "metadata": {
        "colab": {
          "base_uri": "https://localhost:8080/"
        },
        "id": "Q1HE2IdShxax",
        "outputId": "9d5f33a3-75bc-45e5-9b81-192fddd55392"
      },
      "execution_count": null,
      "outputs": [
        {
          "output_type": "stream",
          "name": "stdout",
          "text": [
            " número de horas trabajadas: 8\n",
            "  valor por hora en dólares: 5\n",
            "El sueldo total del empleado es: $ 40.0\n"
          ]
        }
      ]
    },
    {
      "cell_type": "code",
      "source": [
        "#Hacer un ejercicio en python haciendo uso de funciones de usuario, que convierta grados celcius a Farenheit.\n",
        "def celsiusFarenheit(c):\n",
        "  return c*1.8 + 32"
      ],
      "metadata": {
        "id": "SvT95_XplDQv"
      },
      "execution_count": null,
      "outputs": []
    },
    {
      "cell_type": "code",
      "source": [
        "c = int(input(\"Grados c: \"))\n",
        "f = celsiusFarenheit(c)\n",
        "print(\"F: \", f)"
      ],
      "metadata": {
        "colab": {
          "base_uri": "https://localhost:8080/"
        },
        "id": "hxWDVevsWwxN",
        "outputId": "0e915bb8-8442-4be1-8c21-0a1f7b17721e"
      },
      "execution_count": null,
      "outputs": [
        {
          "output_type": "stream",
          "name": "stdout",
          "text": [
            "Grados c: 45\n",
            "F:  113.0\n"
          ]
        }
      ]
    },
    {
      "cell_type": "code",
      "source": [
        "#Hacer un ejercicio en python haciendo uso de funciones de usuario, que convierta grados Farenheit a Celsius.\n",
        "def farenheitCelsius(f):\n",
        "  return (f-32) * 5/9\n",
        "\n",
        "f = float(input(\"F: \"))\n",
        "c = farenheitCelsius(f)\n",
        "print(\"C: \", c)\n"
      ],
      "metadata": {
        "colab": {
          "base_uri": "https://localhost:8080/"
        },
        "id": "Nd5nKxOKYIMA",
        "outputId": "db9650d3-bfea-4148-af87-ce7b7769608e"
      },
      "execution_count": null,
      "outputs": [
        {
          "output_type": "stream",
          "name": "stdout",
          "text": [
            "F: 43\n",
            "C:  6.111111111111111\n"
          ]
        }
      ]
    },
    {
      "cell_type": "code",
      "source": [
        "#Hacer un ejercicio en python haciendo uso de funciones de usuario, que convierta grados Celsius a Kelvin.\n",
        "def celsiusKelvin(c):\n",
        "  return c + 273.15\n",
        "\n",
        "c = float(input(\"C: \"))\n",
        "k = celsiusKelvin(c)\n",
        "print(\"K: \", k)"
      ],
      "metadata": {
        "colab": {
          "base_uri": "https://localhost:8080/"
        },
        "id": "BCbknAw5YMUl",
        "outputId": "fbf49756-4e0e-49bb-9734-24ba0948c9d3"
      },
      "execution_count": null,
      "outputs": [
        {
          "output_type": "stream",
          "name": "stdout",
          "text": [
            "C: 5\n",
            "K:  278.15\n"
          ]
        }
      ]
    },
    {
      "cell_type": "code",
      "source": [
        "#Hacer un ejercicio en python haciendo uso de funciones de usuario, que calcule\n",
        "#el sueldo de un empleado, segun el numero de hrs trabajas y el valor por hora\n",
        "def sueldo(numHrs, valorXhr):\n",
        "  sueldo = numHrs * valorXhr * 30\n",
        "  return sueldo"
      ],
      "metadata": {
        "id": "EJkH80rkYTDU"
      },
      "execution_count": null,
      "outputs": []
    },
    {
      "cell_type": "code",
      "source": [
        "numHrs = float(input(\"Hrs: \"))\n",
        "valorXhr = float(input(\"Valor Xhr: \"))\n",
        "sueldo = sueldo(numHrs, valorXhr)\n",
        "\n",
        "print(\"Sueldo: \", sueldo)"
      ],
      "metadata": {
        "colab": {
          "base_uri": "https://localhost:8080/"
        },
        "id": "3-EYUnejYWLO",
        "outputId": "a5165157-8fdc-47e1-f532-4cf77871a2b9"
      },
      "execution_count": null,
      "outputs": [
        {
          "output_type": "stream",
          "name": "stdout",
          "text": [
            "Hrs: 8\n",
            "Valor Xhr: 10\n",
            "Sueldo:  2400.0\n"
          ]
        }
      ]
    },
    {
      "cell_type": "code",
      "source": [
        "#Hacer un ejercicio en python haciendo uso de funciones de usuario, que permita elevar un numero a un exponente\n",
        "def expoenciacion(b,e):\n",
        "  return b**e\n",
        "\n",
        "b = float(input(\"Base: \"))\n",
        "e = float(input(\"Exponente: \"))\n",
        "\n",
        "resultado = expoenciacion(b,e)\n",
        "print(\"El Numero: \", b, \", elevado a \",e, \", el resultado es: \", resultado)"
      ],
      "metadata": {
        "colab": {
          "base_uri": "https://localhost:8080/"
        },
        "id": "E6AlTuxkYeUq",
        "outputId": "e989277e-3d3f-4b09-a139-9da970a33d47"
      },
      "execution_count": null,
      "outputs": [
        {
          "output_type": "stream",
          "name": "stdout",
          "text": [
            "Base: 54\n",
            "Exponente: 4\n",
            "El Numero:  54.0 , elevado a  4.0 , el resultado es:  8503056.0\n"
          ]
        }
      ]
    },
    {
      "cell_type": "markdown",
      "source": [
        "FUNCIONES ANONIMAS"
      ],
      "metadata": {
        "id": "eTTMC6N-YphO"
      }
    },
    {
      "cell_type": "code",
      "source": [
        "def suma(a,b):\n",
        "  return a+b\n"
      ],
      "metadata": {
        "id": "-FWAe295YrnB"
      },
      "execution_count": null,
      "outputs": []
    },
    {
      "cell_type": "code",
      "source": [
        "a = float(input(\"Num1: \"))\n",
        "b = float(input(\"Num2: \"))\n",
        "\n",
        "suma = suma(a,b)\n",
        "print(\"La suma es: \", suma)\n"
      ],
      "metadata": {
        "id": "rrGPeKk3YuwB",
        "outputId": "38a21f9f-1cc9-4072-97fe-7f40f359232c",
        "colab": {
          "base_uri": "https://localhost:8080/"
        }
      },
      "execution_count": null,
      "outputs": [
        {
          "output_type": "stream",
          "name": "stdout",
          "text": [
            "Num1: 4\n",
            "Num2: 4\n",
            "La suma es:  8.0\n"
          ]
        }
      ]
    },
    {
      "cell_type": "code",
      "source": [
        "a = float(input(\"Num1: \"))\n",
        "b = float(input(\"Num2: \"))\n",
        "\n",
        "sum = lambda a,b: a+b\n",
        "print( \"La suma de \", a, \" mas b \", b, \" es igual \", sum(a,b) )"
      ],
      "metadata": {
        "colab": {
          "base_uri": "https://localhost:8080/"
        },
        "id": "0hJa9nQgZ4Bt",
        "outputId": "25306ee1-3e1e-4e9c-b83c-d2ced7fd62e4"
      },
      "execution_count": 11,
      "outputs": [
        {
          "output_type": "stream",
          "name": "stdout",
          "text": [
            "Num1: 5\n",
            "Num2: 5\n",
            "La suma de  5.0  mas b  5.0  es igual  10.0\n"
          ]
        }
      ]
    },
    {
      "cell_type": "markdown",
      "source": [
        "FUNCIONES PRECONSTRUIDAS"
      ],
      "metadata": {
        "id": "w9Hq5Y-BZ9M2"
      }
    },
    {
      "cell_type": "code",
      "source": [
        "\n",
        "def extraerPrimeraLetra(dia):\n",
        "  return dia[0]"
      ],
      "metadata": {
        "id": "hkh8uTakZ6Nl"
      },
      "execution_count": 12,
      "outputs": []
    },
    {
      "cell_type": "code",
      "source": [
        "semana = [\"Domingo\", \"Lunes\", \"Martes\", \"Miercoles\", \"Jueves\", \"Viernes\", \"Sabado\"]\n",
        "\n",
        "primeraLetraDia = map(lambda dia: dia[0], semana)\n",
        "print(list(primeraLetraDia))\n",
        "\n",
        "mayusSemana = map(lambda dia: dia.upper(), semana)\n",
        "print(list(mayusSemana))\n",
        "\n",
        "print( list(map(extraerPrimeraLetra, semana)) )"
      ],
      "metadata": {
        "colab": {
          "base_uri": "https://localhost:8080/"
        },
        "id": "H7EdNo8JaAqk",
        "outputId": "62ab2c33-c64b-4fdc-c435-a03104656998"
      },
      "execution_count": 13,
      "outputs": [
        {
          "output_type": "stream",
          "name": "stdout",
          "text": [
            "['D', 'L', 'M', 'M', 'J', 'V', 'S']\n",
            "['DOMINGO', 'LUNES', 'MARTES', 'MIERCOLES', 'JUEVES', 'VIERNES', 'SABADO']\n",
            "['D', 'L', 'M', 'M', 'J', 'V', 'S']\n"
          ]
        }
      ]
    },
    {
      "cell_type": "code",
      "source": [
        "numeros = [2,4,6,8,7,9]\n",
        "potencia = int(input(\"Potencia: \"))\n",
        "numeroPotencia = map(lambda num: num**potencia, numeros)\n",
        "\n",
        "print(list(numeroPotencia))"
      ],
      "metadata": {
        "colab": {
          "base_uri": "https://localhost:8080/"
        },
        "id": "I6fV747uaoK5",
        "outputId": "8dccecdb-0ceb-4760-e865-d54b4c66798b"
      },
      "execution_count": 14,
      "outputs": [
        {
          "output_type": "stream",
          "name": "stdout",
          "text": [
            "Potencia: 4\n",
            "[16, 256, 1296, 4096, 2401, 6561]\n"
          ]
        }
      ]
    },
    {
      "cell_type": "code",
      "source": [
        "ntabla  = int(input(\"Tabla:\"))\n",
        "numeros = [1,2,3,4,5,6,7,8,9,10]\n",
        "tabla = map(lambda num: num*ntabla, numeros)\n",
        "\n",
        "print(list(tabla))"
      ],
      "metadata": {
        "colab": {
          "base_uri": "https://localhost:8080/"
        },
        "id": "zNaeYflNaqCT",
        "outputId": "510f92ac-af73-45bc-bee5-da13d57a718f"
      },
      "execution_count": 15,
      "outputs": [
        {
          "output_type": "stream",
          "name": "stdout",
          "text": [
            "Tabla:7\n",
            "[7, 14, 21, 28, 35, 42, 49, 56, 63, 70]\n"
          ]
        }
      ]
    },
    {
      "cell_type": "code",
      "source": [
        "serie = [5,6,9,2,7,8]\n",
        "pares = filter(lambda num: num%2==0, serie) #% ===> a modulo, obtener el residuo.\n",
        "\n",
        "print(list(pares))\n",
        "\n",
        "impares = filter(lambda num: num%2!=0, serie)\n",
        "\n",
        "print(list(impares))"
      ],
      "metadata": {
        "colab": {
          "base_uri": "https://localhost:8080/"
        },
        "id": "hAiSJ0zJauHe",
        "outputId": "9f32e9fd-42f9-43e7-aea2-9e153efbc570"
      },
      "execution_count": 16,
      "outputs": [
        {
          "output_type": "stream",
          "name": "stdout",
          "text": [
            "[6, 2, 8]\n",
            "[5, 9, 7]\n"
          ]
        }
      ]
    },
    {
      "cell_type": "code",
      "source": [
        "serieUser = input(\"Serie: \") # \"5,2,8,1\" --> serie[0]=\"5\"; serie[1]=\"2\"; etc..\n",
        "serieUser = serieUser.split(\",\")\n",
        "\n",
        "pares = filter(lambda num: int(num)%2==0, serieUser)\n",
        "impares = filter(lambda num: int(num)%2!=0, serieUser)\n",
        "\n",
        "print(\"Pares: \",list(pares))\n",
        "print(\"Impares: \", list(impares))"
      ],
      "metadata": {
        "colab": {
          "base_uri": "https://localhost:8080/"
        },
        "id": "hyaDfi--azex",
        "outputId": "58e7a304-3515-4447-c791-df4a66aa0e31"
      },
      "execution_count": 17,
      "outputs": [
        {
          "output_type": "stream",
          "name": "stdout",
          "text": [
            "Serie: 5,3,2,3\n",
            "Pares:  ['2']\n",
            "Impares:  ['5', '3', '3']\n"
          ]
        }
      ]
    },
    {
      "cell_type": "markdown",
      "source": [
        "Hacer un ejercicio en python usando la funcion filter y lambda que de una seria de notas introducidas por el usuario, establezca cuantos pasan la materia (>6) y cuantos se quedan (<6)."
      ],
      "metadata": {
        "id": "f6LRcf2Pa_QH"
      }
    },
    {
      "cell_type": "code",
      "source": [
        "entrada = input(\"Introducir las notas separadas por espacios: \")\n",
        "notas = list(map(float, entrada.split()))\n",
        "aprobados = list(filter(lambda x: x >= 6, notas))\n",
        "reprobados = list(filter(lambda x: x < 6, notas))\n",
        "print(f\"Aprobados ({len(aprobados)}): {aprobados}\")\n",
        "print(f\"Reprobados ({len(reprobados)}): {reprobados}\")\n",
        "\n"
      ],
      "metadata": {
        "colab": {
          "base_uri": "https://localhost:8080/"
        },
        "id": "vv7juC4pa7nK",
        "outputId": "5393c251-8f05-49cb-ba50-8127547a3e27"
      },
      "execution_count": 18,
      "outputs": [
        {
          "output_type": "stream",
          "name": "stdout",
          "text": [
            "Introducir las notas separadas por espacios: 5 3 4 3 \n",
            "Aprobados (0): []\n",
            "Reprobados (4): [5.0, 3.0, 4.0, 3.0]\n"
          ]
        }
      ]
    },
    {
      "cell_type": "code",
      "source": [
        "#reduce\n",
        "from functools import reduce\n",
        "\n",
        "numeros = [5,4,9,6,8,2,3]\n",
        "suma = reduce(lambda num, acum: num+acum, numeros)\n",
        "\n",
        "sumaPares = reduce(lambda num, acum: num+acum, filter(lambda num: num%2==0, numeros))\n",
        "sumaPar = reduce(lambda num, acum: acum + num if num%2==0 else 0, numeros) #pendiente de revisar...\n",
        "\n",
        "print(\"La suma es: \", suma)\n",
        "print(\"La suma de los pares es: \", sumaPares)\n",
        "print(\"Suma Pares: \", sumaPar)"
      ],
      "metadata": {
        "colab": {
          "base_uri": "https://localhost:8080/"
        },
        "id": "2xvQsB8Nbs8o",
        "outputId": "0ec6de10-22fd-45f9-9c25-6c23f6b796e8"
      },
      "execution_count": 19,
      "outputs": [
        {
          "output_type": "stream",
          "name": "stdout",
          "text": [
            "La suma es:  37\n",
            "La suma de los pares es:  20\n",
            "Suma Pares:  13\n"
          ]
        }
      ]
    }
  ]
}